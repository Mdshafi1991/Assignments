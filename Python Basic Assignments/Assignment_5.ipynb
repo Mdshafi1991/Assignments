{
 "cells": [
  {
   "cell_type": "markdown",
   "id": "61c7d2fa",
   "metadata": {},
   "source": [
    "#### 1. What does an empty dictionary&#39;s code look like?"
   ]
  },
  {
   "cell_type": "markdown",
   "id": "48581ded",
   "metadata": {},
   "source": [
    "Ans:\n",
    "{ }\n",
    "\n",
    "i.e. opening and closing braces with no element enclosed."
   ]
  },
  {
   "cell_type": "markdown",
   "id": "32bfa529",
   "metadata": {},
   "source": [
    "#### 2. What is the value of a dictionary value with the key &#39;foo&#39; and the value 42?"
   ]
  },
  {
   "cell_type": "markdown",
   "id": "7c7d40bd",
   "metadata": {},
   "source": [
    "d={'foo':42}\n",
    "\n",
    "Here d is the name of dictionary.\n"
   ]
  },
  {
   "cell_type": "markdown",
   "id": "c18fab00",
   "metadata": {},
   "source": [
    "#### 3. What is the most significant distinction between a dictionary and a list?"
   ]
  },
  {
   "cell_type": "markdown",
   "id": "bdf323b0",
   "metadata": {},
   "source": [
    "A dictionary stores elements as a key value pairs, where as the list stores individual values/elements. \n",
    "\n",
    "The elements in dictionary are not stored in order, where as list elements are stored in an order.\n",
    "\n",
    "Dictionary elements are accessed using key , list elements are accessed using numeric indices.\n"
   ]
  },
  {
   "cell_type": "markdown",
   "id": "0d65f8f9",
   "metadata": {},
   "source": [
    "#### 4. What happens if you try to access spam[&#39;foo&#39;] if spam is {&#39;bar&#39;: 100}?"
   ]
  },
  {
   "cell_type": "markdown",
   "id": "c07a8c41",
   "metadata": {},
   "source": [
    "We get an error 'KeyError'"
   ]
  },
  {
   "cell_type": "markdown",
   "id": "dd676b03",
   "metadata": {},
   "source": [
    "#### 5. If a dictionary is stored in spam, what is the difference between the expressions &#39;cat&#39; in spam and&#39;cat&#39; in spam.keys()?"
   ]
  },
  {
   "cell_type": "markdown",
   "id": "83ffcdb1",
   "metadata": {},
   "source": [
    "Both refers to the same statement: To check id 'cat' is a key in the dictionary elements. "
   ]
  },
  {
   "cell_type": "markdown",
   "id": "e67dae3b",
   "metadata": {},
   "source": [
    "#### 6. If a dictionary is stored in spam, what is the difference between the expressions &#39;cat&#39; in spam and&#39;cat&#39; in spam.values()?"
   ]
  },
  {
   "cell_type": "markdown",
   "id": "caadcf08",
   "metadata": {},
   "source": [
    "First expression checks if 'cat' is there in the dictionary's keys, where as second one checks if 'cat' is there in the values of the dictionary."
   ]
  },
  {
   "cell_type": "markdown",
   "id": "36025b14",
   "metadata": {},
   "source": [
    "#### 7. What is a shortcut for the following code?\n",
    "if &#39;color&#39; not in spam:\n",
    "spam[&#39;color&#39;] = &#39;black&#39;"
   ]
  },
  {
   "cell_type": "markdown",
   "id": "f5ce6f58",
   "metadata": {},
   "source": [
    "spam.update({'color':'black'})"
   ]
  },
  {
   "cell_type": "markdown",
   "id": "33e8aad5",
   "metadata": {},
   "source": [
    "#### 8. How do you &quot;pretty print&quot; dictionary values using which module and function?"
   ]
  },
  {
   "cell_type": "markdown",
   "id": "40d1b99f",
   "metadata": {},
   "source": [
    "We use the module pprint and the function pprint in that module."
   ]
  }
 ],
 "metadata": {
  "kernelspec": {
   "display_name": "Python 3 (ipykernel)",
   "language": "python",
   "name": "python3"
  },
  "language_info": {
   "codemirror_mode": {
    "name": "ipython",
    "version": 3
   },
   "file_extension": ".py",
   "mimetype": "text/x-python",
   "name": "python",
   "nbconvert_exporter": "python",
   "pygments_lexer": "ipython3",
   "version": "3.11.5"
  }
 },
 "nbformat": 4,
 "nbformat_minor": 5
}
