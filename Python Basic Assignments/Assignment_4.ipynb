{
 "cells": [
  {
   "cell_type": "markdown",
   "id": "58c2c3ea",
   "metadata": {},
   "source": [
    "#### 1. What exactly is [ ]?"
   ]
  },
  {
   "cell_type": "markdown",
   "id": "9641a615",
   "metadata": {},
   "source": [
    "It is a list with out any element in it. i.e. An empty list."
   ]
  },
  {
   "cell_type": "markdown",
   "id": "fc944bfe",
   "metadata": {},
   "source": [
    "#### 2. In a list of values stored in a variable called spam, how would you assign the value &#39;hello&#39; as the third value? (Assume [2, 4, 6, 8, 10] are in spam.)"
   ]
  },
  {
   "cell_type": "markdown",
   "id": "d64462d5",
   "metadata": {},
   "source": [
    "    list elements can be changed. \n",
    "    we can use the below code to change the third element to 'hello'"
   ]
  },
  {
   "cell_type": "code",
   "execution_count": 1,
   "id": "900ac4a6",
   "metadata": {},
   "outputs": [
    {
     "name": "stdout",
     "output_type": "stream",
     "text": [
      "[2, 4, 'hello', 8, 10]\n"
     ]
    }
   ],
   "source": [
    "spam=[2,4,6,8,10]\n",
    "spam[2]='hello' #Changing the third element\n",
    "print(spam)"
   ]
  },
  {
   "cell_type": "code",
   "execution_count": null,
   "id": "87fbddda",
   "metadata": {},
   "outputs": [],
   "source": []
  },
  {
   "cell_type": "markdown",
   "id": "dd75f5cf",
   "metadata": {},
   "source": [
    "# Let&#39;s pretend the spam includes the list [&#39;a&#39;, &#39;b&#39;, &#39;c&#39;, &#39;d&#39;] for the next three queries."
   ]
  },
  {
   "cell_type": "markdown",
   "id": "cad4dc20",
   "metadata": {},
   "source": [
    "#### 3. What is the value of spam[int(int(&#39;3&#39; * 2) / 11)]?"
   ]
  },
  {
   "cell_type": "markdown",
   "id": "bcdf75d8",
   "metadata": {},
   "source": [
    " The expression int('3'*2) gives us 33 ==> the expression int(33/11) gives 3 ==> spam[3] gives us the 4th element of the list.\n",
    " \n",
    "Hence the output is \n",
    "### 'd'"
   ]
  },
  {
   "cell_type": "markdown",
   "id": "109a0332",
   "metadata": {},
   "source": [
    "#### 4. What is the value of spam[-1]?"
   ]
  },
  {
   "cell_type": "markdown",
   "id": "f82ffe33",
   "metadata": {},
   "source": [
    "it return the first element from the right end of the list. \n",
    "Hence the output is\n",
    "### 'd'"
   ]
  },
  {
   "cell_type": "markdown",
   "id": "e3982aa4",
   "metadata": {},
   "source": [
    "#### 5. What is the value of spam[:2]?"
   ]
  },
  {
   "cell_type": "markdown",
   "id": "9c6941b7",
   "metadata": {},
   "source": [
    "It gives a sub set of the list from the begining to the 1st(2-1 th) element.\n",
    "Hence the output is \n",
    "### ['a','b']"
   ]
  },
  {
   "cell_type": "code",
   "execution_count": null,
   "id": "dda8fed5",
   "metadata": {},
   "outputs": [],
   "source": []
  },
  {
   "cell_type": "markdown",
   "id": "48ab7806",
   "metadata": {},
   "source": [
    "# Let&#39;s pretend bacon has the list [3.14, &#39;cat,&#39; 11, &#39;cat,&#39; True] for the next three questions."
   ]
  },
  {
   "cell_type": "markdown",
   "id": "91b391b3",
   "metadata": {},
   "source": [
    "#### 6. What is the value of bacon.index(&#39;cat&#39;)?"
   ]
  },
  {
   "cell_type": "markdown",
   "id": "88a97686",
   "metadata": {},
   "source": [
    "It gives us the index of the first occuarance of the element 'cat'\n",
    "Hence the output is\n",
    "### 1"
   ]
  },
  {
   "cell_type": "code",
   "execution_count": null,
   "id": "97398375",
   "metadata": {},
   "outputs": [],
   "source": [
    "bacon=[3.14, 'cat' ,11, 'cat', True]\n",
    "bacon.index('cat')\n",
    "bacon.append(99)\n",
    "bacon\n",
    "\n",
    "bacon.remove('cat') \n",
    "bacon"
   ]
  },
  {
   "cell_type": "markdown",
   "id": "607eaa8f",
   "metadata": {},
   "source": [
    "#### 7. How does bacon.append(99) change the look of the list value in bacon?"
   ]
  },
  {
   "cell_type": "markdown",
   "id": "66285211",
   "metadata": {},
   "source": [
    "It adds the element 99 to the list at the end.\n",
    "i.e the new list is now \n",
    "### [3.14, 'cat' ,11, 'cat', True,99]"
   ]
  },
  {
   "cell_type": "markdown",
   "id": "846c43c8",
   "metadata": {},
   "source": [
    "#### 8. How does bacon.remove(&#39;cat&#39;) change the look of the list in bacon?"
   ]
  },
  {
   "cell_type": "markdown",
   "id": "f1385382",
   "metadata": {},
   "source": [
    "It removes the first occuarance of the element element 'cat'. The list now becomes \n",
    "### [3.14, 11, 'cat', True, 99]"
   ]
  },
  {
   "cell_type": "markdown",
   "id": "80206afc",
   "metadata": {},
   "source": [
    "#### 9. What are the list concatenation and list replication operators?"
   ]
  },
  {
   "cell_type": "markdown",
   "id": "e4af8719",
   "metadata": {},
   "source": [
    "    List concatenation:\n",
    "    It combines the two lists to form a new list.\n",
    "    eg:\n",
    "        list1=[1,2,3,4], list2=[4,5,6]\n",
    "        list concatenation list1 + list2 gives us a new list [1,2,3,4,4,5,6]\n",
    "\n",
    "\n",
    "    List replication :\n",
    "    It replicates the list elements as many time as we need. \n",
    "        eg:\n",
    "            list1=[1,3] \n",
    "            list1 * 3 gives us the new list [1,3,1,3,1,3]"
   ]
  },
  {
   "cell_type": "markdown",
   "id": "bc99dc95",
   "metadata": {},
   "source": [
    "#### 10. What is difference between the list methods append() and insert()?"
   ]
  },
  {
   "cell_type": "markdown",
   "id": "d54334b8",
   "metadata": {},
   "source": [
    "    append method inserts the given element at the end of the list.\n",
    "    Where as the insert method inserts the given element at the given index position.\n",
    "    eg: \n",
    "    a=[1,3,1,3,1,3]\n",
    "    a.insert(2,4) inserts element 4 at the index 2, giving a new list a = [1, 3, 4, 1, 3, 1, 3]\n",
    "    \n",
    "\n",
    "    "
   ]
  },
  {
   "cell_type": "code",
   "execution_count": null,
   "id": "175120ec",
   "metadata": {},
   "outputs": [],
   "source": []
  },
  {
   "cell_type": "markdown",
   "id": "7a83e3b3",
   "metadata": {},
   "source": [
    "#### 11. What are the two methods for removing items from a list?"
   ]
  },
  {
   "cell_type": "markdown",
   "id": "92ae363f",
   "metadata": {},
   "source": [
    "There are two methods to remove an element from a list. \n",
    "1) pop( )\n",
    "    This method removes the element from the end index.\n",
    "    \n",
    "2) remove(element_to_remove)\n",
    "    This method removes the fisrt occrance of the given element from the list"
   ]
  },
  {
   "cell_type": "markdown",
   "id": "80f14e16",
   "metadata": {},
   "source": [
    "#### 12. Describe how list values and string values are identical."
   ]
  },
  {
   "cell_type": "markdown",
   "id": "a2754650",
   "metadata": {},
   "source": [
    "    The values in the list and string share the below common features:\n",
    "    1) Both are orderly stored \n",
    "    2) values in both list and string can be accessed using index starting from 0\n",
    "    3) We can use slicing mechanism to get the subsets in both list and sring "
   ]
  },
  {
   "cell_type": "markdown",
   "id": "18e54218",
   "metadata": {},
   "source": [
    "#### 13. What&#39;s the difference between tuples and lists?"
   ]
  },
  {
   "cell_type": "markdown",
   "id": "3fd43e74",
   "metadata": {},
   "source": [
    "Tuples and lists are datastructures to store elements in an orderly manner. \n",
    "\n",
    "However The differnce is that a list is mutable and a tuple is immutable. i.e. we can change the elements in the list but we can not change the elements in the tuple.\n"
   ]
  },
  {
   "cell_type": "markdown",
   "id": "786bc350",
   "metadata": {},
   "source": [
    "#### 14. How do you type a tuple value that only contains the integer 42?"
   ]
  },
  {
   "cell_type": "markdown",
   "id": "de6e0ea4",
   "metadata": {},
   "source": [
    "We assign the variable to a tuple with value 42 followed by a comma. (with out the comma it will be considered an integer.)\n",
    "\n",
    "i.e. t = (42,)"
   ]
  },
  {
   "cell_type": "markdown",
   "id": "dbaebefa",
   "metadata": {},
   "source": [
    "#### 15. How do you get a list value&#39;s tuple form? How do you get a tuple value&#39;s list form?"
   ]
  },
  {
   "cell_type": "markdown",
   "id": "a2e8ad30",
   "metadata": {},
   "source": [
    "We can type cast the list into a tuple by using the key word tuple followed by the list name in the Parenthesis.\n",
    "\n",
    "Similarly we can cast a tuple into a list by using the key word list followed by the tuple name in the Parenthesis.\n",
    "\n",
    "eg:\n",
    "    \n",
    "    a=[1,23,5,6,6,7]\n",
    "    ta=tuple(a)    #converts the list a into tuple ta\n",
    "    \n",
    "    t=(1,3,4,55,55)\n",
    "    lt=list(t)        #converts the tuple t into list lt"
   ]
  },
  {
   "cell_type": "markdown",
   "id": "45706691",
   "metadata": {},
   "source": [
    "#### 16.  Variables that &quot;contain&quot; list values are not necessarily lists themselves. Instead, what do they contain?"
   ]
  },
  {
   "cell_type": "markdown",
   "id": "7b9e214a",
   "metadata": {},
   "source": [
    "#### Those variables contain references to the original list.\n",
    "\n",
    "    Below,  the original list is orig_list and is an actual list, where as dup_list has only the \n",
    "    reference to the original list's memory location and is not a list by itself.\n",
    "  \n",
    "    orig_list=[1,3,5]\n",
    "    dup_list=or_list\n",
    "\n"
   ]
  },
  {
   "cell_type": "code",
   "execution_count": null,
   "id": "281a4fc0",
   "metadata": {},
   "outputs": [],
   "source": []
  },
  {
   "cell_type": "markdown",
   "id": "ce841d9c",
   "metadata": {},
   "source": [
    "#### 17. How do you distinguish between copy.copy() and copy.deepcopy()?"
   ]
  },
  {
   "cell_type": "markdown",
   "id": "ca9a2d86",
   "metadata": {},
   "source": [
    "    copy.copy( ) creates a shallow copy of the object. Here only the outer structure of the object is copied. Here the cotents of the copy object are references to the original object elements and not the exact elements.  In case of a nested objects the inner references still reference the original object. This method is not suitable for copying for complex objects.\n",
    "    eg:\n",
    "    l1=[1,2,3]\n",
    "    l2=copy.copy(l1)\n",
    "\n",
    "\n",
    "    copy.deepcopy( ) creates a deep copy of the object. Here both the outer strcuture and the inner structure of the object is created even in case of nested structures.\n",
    "\n",
    "\n",
    "    import copy\n",
    "    l1=[1,2,3]\n",
    "    l2=copy.copy(l1)\n",
    "    l2.append(7)\n",
    "    #Here the object is of simple structure. changes in l2 do not cause any change in the original list l1.\n",
    "\n",
    "\n",
    "    import copy\n",
    "    l1=[1,2,[3,4,5]]\n",
    "    l2=copy.copy(l1)\n",
    "    l2[2][2]=9\n",
    "    #Here the list l1 is a complex object with nested structure. Here the changed on the deep copy l2 will not be reflected in l1.\n",
    "\n",
    "\n"
   ]
  }
 ],
 "metadata": {
  "kernelspec": {
   "display_name": "Python 3 (ipykernel)",
   "language": "python",
   "name": "python3"
  },
  "language_info": {
   "codemirror_mode": {
    "name": "ipython",
    "version": 3
   },
   "file_extension": ".py",
   "mimetype": "text/x-python",
   "name": "python",
   "nbconvert_exporter": "python",
   "pygments_lexer": "ipython3",
   "version": "3.11.5"
  }
 },
 "nbformat": 4,
 "nbformat_minor": 5
}
