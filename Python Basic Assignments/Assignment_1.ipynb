{
 "cells": [
  {
   "cell_type": "markdown",
   "id": "2c12bd87",
   "metadata": {},
   "source": [
    "    1. \n",
    "\n",
    "    In the below elements which of them are values or an expression? eg:- values can be integer or string \n",
    "    and expressions will be mathematical operators.\n",
    "\n",
    "    *\n",
    "    'hello'\n",
    "    -87.8\n",
    "    -\n",
    "    /\n",
    "    +\n",
    "    6\n"
   ]
  },
  {
   "cell_type": "markdown",
   "id": "17287295",
   "metadata": {},
   "source": [
    "    *       Expression\n",
    "    'hello' Value\n",
    "    -87.8   Value\n",
    "    -       Expression\n",
    "    /       Expression\n",
    "    +       Expression\n",
    "    6       Value\n",
    "\n",
    "\n"
   ]
  },
  {
   "cell_type": "markdown",
   "id": "5e224997",
   "metadata": {},
   "source": [
    "    2.\n",
    "\n",
    "    What is the difference between string and variable?"
   ]
  },
  {
   "cell_type": "markdown",
   "id": "a6d655d7",
   "metadata": {},
   "source": [
    "\n",
    "    A string is one of the data types which is a set of characters. A string can be assigned to a variable.\n",
    "    A variable is place holder for a value which . It reserves some memory in storage. A variable can take \n",
    "    any values \n",
    "    of any data type.\n"
   ]
  },
  {
   "cell_type": "markdown",
   "id": "f8aad19e",
   "metadata": {},
   "source": [
    "    3. \n",
    "\n",
    "    Describe three different data types."
   ]
  },
  {
   "cell_type": "markdown",
   "id": "ece4a8e4",
   "metadata": {},
   "source": [
    "    There are multiple data types. \n",
    "\n",
    "    Integer (int) which stores integers. eg: 1,8,9\n",
    "    Float (float) which stores decimal numbers. eg: 9.8,7.7\n",
    "    String (str) which stores a set of characters. eg: \"hello\", \"try\" "
   ]
  },
  {
   "cell_type": "markdown",
   "id": "fe7a89d9",
   "metadata": {},
   "source": [
    "    4. \n",
    "\n",
    "    What is an expression made up of? What do all expressions do?"
   ]
  },
  {
   "cell_type": "markdown",
   "id": "2e5d4aa9",
   "metadata": {},
   "source": [
    "    An expression is a combination of values or variables and operators.\n",
    "    An expression returns a value by performing the operation given by the operator.\n",
    "    eg: 5 + 8 is an expression returns the sum of values 5 and 8 i.e. 13\n",
    "        True and False is an expression returns and operation between True and False i.e False "
   ]
  },
  {
   "cell_type": "markdown",
   "id": "e4e9b948",
   "metadata": {},
   "source": [
    "    5.\n",
    "\n",
    "    This assignment statements, like spam = 10. What is the difference between an\n",
    "    expression and a statement?"
   ]
  },
  {
   "cell_type": "markdown",
   "id": "74d22230",
   "metadata": {},
   "source": [
    "    A statement is a line of code that the interpreter would execute.Assignment is one such statement. spam=10\n",
    "    stores the value 10 into variabe spam.\n",
    "\n",
    "    An expression is supposed to return a value eg: 50 > 100 is an expression and returns False.\n",
    "    A statement can be an assignment or a call to function and need not necessarily return a value.\n",
    "    eg: print(\"hello\")\n",
    "        vowels=['a','e','i','o','u'] "
   ]
  },
  {
   "cell_type": "markdown",
   "id": "7ddfc492",
   "metadata": {},
   "source": [
    "    6. \n",
    "\n",
    "    After running the following code, what does the variable bacon contain?\n",
    "    bacon = 22\n",
    "    bacon + 1"
   ]
  },
  {
   "cell_type": "markdown",
   "id": "647a76fe",
   "metadata": {},
   "source": [
    "    The variable bacon contains the value 22. \n",
    "    Though there is an adition of 1 to bacon it is not assigned to the variable bacon. \n",
    "    Hence it retains the same value 22."
   ]
  },
  {
   "cell_type": "markdown",
   "id": "b5f26f10",
   "metadata": {},
   "source": [
    "    7. \n",
    "\n",
    "    What should the values of the following two terms be?\n",
    "    'spam' + 'spamspam'\n",
    "    'spam' * 3"
   ]
  },
  {
   "cell_type": "markdown",
   "id": "ca61090f",
   "metadata": {},
   "source": [
    "    'spam' + 'spamspam' :It concatenates the two values into \"spamspamspam\"\n",
    "    It repetes the same string 3 times i.e result is \"spamspamspam\"\n",
    "\n",
    "    Hence both expressions return the same values."
   ]
  },
  {
   "cell_type": "markdown",
   "id": "ffaa4479",
   "metadata": {},
   "source": [
    "    8.\n",
    "\n",
    "    Why is eggs a valid variable name while 100 is invalid?"
   ]
  },
  {
   "cell_type": "markdown",
   "id": "db4f2bdb",
   "metadata": {},
   "source": [
    "    eggs is valid variable name since:\n",
    "        It is not a reserved key word and doesn't start with a digit.\n",
    "\n",
    "    100 is not a name of a variable\n",
    "        because it starts with a a numbee\n"
   ]
  },
  {
   "cell_type": "markdown",
   "id": "759bacf6",
   "metadata": {},
   "source": [
    "    9. \n",
    "\n",
    "    What three functions can be used to get the integer, floating-point number, or string\n",
    "    version of a value?"
   ]
  },
  {
   "cell_type": "markdown",
   "id": "d3301dd8",
   "metadata": {},
   "source": [
    "    For integer value the function is int().\n",
    "    For float , it is float()\n",
    "    and for string it is str()"
   ]
  },
  {
   "cell_type": "markdown",
   "id": "eb1e35fd",
   "metadata": {},
   "source": [
    "    10. \n",
    "\n",
    "    Why does this expression cause an error? How can you fix it?\n",
    "    'I have eaten ' + 99 + ' burritos'"
   ]
  },
  {
   "cell_type": "markdown",
   "id": "1ed651ec",
   "metadata": {},
   "source": [
    "    The above expresion returns an error since it tries to concatenate strings and integer \n",
    "    which are of different data type. \n",
    "    To fix the errors, convery 99 into a string by calling str(99) function\n",
    "\n",
    "    'I have eaten ' + str(99) + ' burritos'"
   ]
  },
  {
   "cell_type": "markdown",
   "id": "89abcf7a",
   "metadata": {},
   "source": []
  },
  {
   "cell_type": "markdown",
   "id": "dd5c6098",
   "metadata": {},
   "source": []
  }
 ],
 "metadata": {
  "kernelspec": {
   "display_name": "Python 3 (ipykernel)",
   "language": "python",
   "name": "python3"
  },
  "language_info": {
   "codemirror_mode": {
    "name": "ipython",
    "version": 3
   },
   "file_extension": ".py",
   "mimetype": "text/x-python",
   "name": "python",
   "nbconvert_exporter": "python",
   "pygments_lexer": "ipython3",
   "version": "3.11.5"
  }
 },
 "nbformat": 4,
 "nbformat_minor": 5
}
