{
 "cells": [
  {
   "cell_type": "code",
   "execution_count": null,
   "id": "95bd5758",
   "metadata": {},
   "outputs": [],
   "source": []
  },
  {
   "cell_type": "markdown",
   "id": "cfb835c6",
   "metadata": {},
   "source": [
    "#### 1. What is the role of try and exception block?"
   ]
  },
  {
   "cell_type": "markdown",
   "id": "c11d6b88",
   "metadata": {},
   "source": [
    "The try and exception block allows the programs to handle errors, exceptions during the execution.\n",
    "\n",
    "We do not want our program to terminate unexpectedly in case of any unexpected cases.\n",
    "The try and exception blocks allows us to specify what to do when an unexpected error/exception occurs.\n"
   ]
  },
  {
   "cell_type": "markdown",
   "id": "3d051e9d",
   "metadata": {},
   "source": [
    "#### 2. What is the syntax for a basic try-except block?"
   ]
  },
  {
   "cell_type": "markdown",
   "id": "d90dfcf9",
   "metadata": {},
   "source": [
    "The syntax is as below:\n",
    "    \n",
    "    try:\n",
    "        code to be executed that may raise an exception\n",
    "    except:\n",
    "        Code to be executed when a error/ exception occurs in the code of try block\n",
    "           "
   ]
  },
  {
   "cell_type": "markdown",
   "id": "b36d3c72",
   "metadata": {},
   "source": [
    "#### 3. What happens if an exception occurs inside a try block and there is no matching except block?"
   ]
  },
  {
   "cell_type": "markdown",
   "id": "f912d0e0",
   "metadata": {},
   "source": [
    "The program will terminate with the error message listing about the exception message.\n",
    "\n",
    "However if there is no except block at all for a try block, then we get a SyntaxError: incomplete input.\n"
   ]
  },
  {
   "cell_type": "markdown",
   "id": "92fe46f1",
   "metadata": {},
   "source": [
    "#### 4. What is the difference between using a bare except block and specifying a specific exception type?"
   ]
  },
  {
   "cell_type": "markdown",
   "id": "35bded65",
   "metadata": {},
   "source": [
    "The bare except block would allow the program to catch all the exceptions and \n",
    "runs the code in the except block in case of any exception.\n",
    "\n",
    "When specific exception is mentioned that need to be caught, only that type of exception would be caught and the code in the except block will be executed.\n",
    "Any other exception would cause the program to terminate abrupltly with the corresponding error message."
   ]
  },
  {
   "cell_type": "markdown",
   "id": "d7b768cb",
   "metadata": {},
   "source": [
    "#### 5. Can you have nested try-except blocks in Python? If yes, then give an example."
   ]
  },
  {
   "cell_type": "code",
   "execution_count": null,
   "id": "e8860c05",
   "metadata": {},
   "outputs": [],
   "source": [
    "Yes, We can have nested try - except blocks in Python.\n",
    "Below is the example.\n"
   ]
  },
  {
   "cell_type": "code",
   "execution_count": 33,
   "id": "431f4340",
   "metadata": {},
   "outputs": [
    {
     "name": "stdout",
     "output_type": "stream",
     "text": [
      "Enter a number:a\n",
      "Please run again and enter a valid number!\n"
     ]
    }
   ],
   "source": [
    "try:\n",
    "    x = int(input(\"Enter a number:\"))\n",
    "    try:\n",
    "        print(1000/x)\n",
    "    \n",
    "    except ZeroDivisionError:\n",
    "        print(\"The number is zero. The default output is returned now as the same as given number\",1000)\n",
    "        \n",
    "\n",
    "except ValueError:\n",
    "    print(\"Please run again and enter a valid number!\")\n",
    "    \n",
    "    \n",
    "    \n",
    "    "
   ]
  },
  {
   "cell_type": "markdown",
   "id": "7c8211f5",
   "metadata": {},
   "source": [
    "#### 6. Can we use multiple exception blocks, if yes then give an example."
   ]
  },
  {
   "cell_type": "code",
   "execution_count": null,
   "id": "cfe0997e",
   "metadata": {},
   "outputs": [],
   "source": [
    "Yes. We can have multiple except bloacks for a try block. Example is given below."
   ]
  },
  {
   "cell_type": "code",
   "execution_count": 36,
   "id": "9389e88e",
   "metadata": {},
   "outputs": [
    {
     "name": "stdout",
     "output_type": "stream",
     "text": [
      "Enter a number:0\n",
      "Please enter a number other than Zero!\n"
     ]
    }
   ],
   "source": [
    "try:\n",
    "    x = int(input(\"Enter a number:\"))\n",
    "    res = 100/x\n",
    "except ValueError:\n",
    "    print(\"Please enter a valid number!\")\n",
    "except ZeroDivisionError:\n",
    "    print(\"Please enter a number other than Zero!\")\n",
    "\n",
    "    "
   ]
  },
  {
   "cell_type": "markdown",
   "id": "c9e3d929",
   "metadata": {},
   "source": [
    "## 7. Write the reason due to which following errors are raised:"
   ]
  },
  {
   "cell_type": "markdown",
   "id": "d440079d",
   "metadata": {},
   "source": [
    "#### a. EOFError"
   ]
  },
  {
   "cell_type": "markdown",
   "id": "5f8f351f",
   "metadata": {},
   "source": [
    "EOFError is a specific type of exception in Python that stands for \"End of File Error.\" \n",
    "It is raised when an input operation like input() or raw_input() reaches the end of the file (EOF) \n",
    "without reading any data. \n",
    "This typically occurs when the input stream, such as standard input (stdin), is closed unexpectedly while the program is trying to read from it.\n",
    "\n"
   ]
  },
  {
   "cell_type": "markdown",
   "id": "a8e19340",
   "metadata": {},
   "source": [
    "#### b. FloatingPointError"
   ]
  },
  {
   "cell_type": "markdown",
   "id": "913ae925",
   "metadata": {},
   "source": [
    "\n",
    "Floating-point errors in Python typically arise due to the inherent limitations of representing real numbers in a finite binary format. \n",
    "\n",
    "Representation Error: Many decimal numbers cannot be represented exactly in binary floating-point format. For instance, numbers like 0.1 cannot be represented precisely in binary, leading to rounding errors.\n",
    "\n",
    "Limited Precision: Floating-point numbers have limited precision. Operations involving very small or very large numbers, or operations with many decimal places, may lose precision due to the limited number of bits used to represent them."
   ]
  },
  {
   "cell_type": "markdown",
   "id": "0cca3226",
   "metadata": {},
   "source": [
    "#### c. IndexError"
   ]
  },
  {
   "cell_type": "markdown",
   "id": "da5bea09",
   "metadata": {},
   "source": [
    "Occurs when we try to access an element, which is out of range. \n",
    "eg: list_1 = [1,2,3,4]\n",
    "if we try to access the 5th element list_1[4] which is out of bound, we get an IndexError"
   ]
  },
  {
   "cell_type": "code",
   "execution_count": 62,
   "id": "3a011d58",
   "metadata": {},
   "outputs": [
    {
     "ename": "IndexError",
     "evalue": "list index out of range",
     "output_type": "error",
     "traceback": [
      "\u001b[0;31m---------------------------------------------------------------------------\u001b[0m",
      "\u001b[0;31mIndexError\u001b[0m                                Traceback (most recent call last)",
      "Cell \u001b[0;32mIn[62], line 2\u001b[0m\n\u001b[1;32m      1\u001b[0m l \u001b[38;5;241m=\u001b[39m [\u001b[38;5;241m1\u001b[39m,\u001b[38;5;241m3\u001b[39m,\u001b[38;5;241m4\u001b[39m,\u001b[38;5;241m5\u001b[39m]\n\u001b[0;32m----> 2\u001b[0m l[\u001b[38;5;241m4\u001b[39m]\n",
      "\u001b[0;31mIndexError\u001b[0m: list index out of range"
     ]
    }
   ],
   "source": [
    "l = [1,3,4,5]\n",
    "l[4]"
   ]
  },
  {
   "cell_type": "markdown",
   "id": "5300590d",
   "metadata": {},
   "source": [
    "#### d. MemoryError"
   ]
  },
  {
   "cell_type": "markdown",
   "id": "3533643e",
   "metadata": {},
   "source": [
    "A MemoryError in Python indicates that the interpreter has run out of memory while trying to execute a program. This error typically occurs when a program consumes more memory than the system can allocate or when the system's memory resources are exhausted.\n",
    "\n",
    "Reasons may be:\n",
    "    \n",
    "    Large Data Structures\n",
    "    \n",
    "    Recursive Functions\n",
    "    \n",
    "    Memory Leaks\n",
    "    \n",
    "    Large files\n",
    "    "
   ]
  },
  {
   "cell_type": "markdown",
   "id": "aa9be509",
   "metadata": {},
   "source": [
    "#### e. OverflowError"
   ]
  },
  {
   "cell_type": "markdown",
   "id": "86f0ee60",
   "metadata": {},
   "source": [
    "occurs when the result of an arithmetic operation exceeds the maximum representable value for the given data type. This error is commonly encountered when working with integers, floats, or other numerical data types.\n",
    "\n"
   ]
  },
  {
   "cell_type": "markdown",
   "id": "1c762a27",
   "metadata": {},
   "source": [
    "#### f. TabError"
   ]
  },
  {
   "cell_type": "markdown",
   "id": "57be011e",
   "metadata": {},
   "source": [
    "TabError is a type of syntax error in Python that occurs when the indentation in a script mixes tabs and spaces inconsistently. \n",
    "\n",
    "Python uses indentation to define blocks of code, and it requires consistent use of either tabs or spaces, but not both, for indentation within the same block."
   ]
  },
  {
   "cell_type": "markdown",
   "id": "af2ab820",
   "metadata": {},
   "source": [
    "#### g. ValueError"
   ]
  },
  {
   "cell_type": "markdown",
   "id": "0ffae813",
   "metadata": {},
   "source": [
    "occurs when a function receives an argument of the correct data type, but the value of the argument is inappropriate for the operation\n",
    "\n",
    "Reasons may be:\n",
    "    \n",
    "    Empty Sequences\n",
    "    \n",
    "    Incorrect Format\n",
    "    \n",
    "    Out of Range\n",
    "    \n",
    "    Invalid Conversions"
   ]
  },
  {
   "cell_type": "markdown",
   "id": "23204559",
   "metadata": {},
   "source": [
    "## 8. Write code for the following given scenario and add try-exception block to it.\n"
   ]
  },
  {
   "cell_type": "markdown",
   "id": "559dc7b2",
   "metadata": {},
   "source": [
    "#### a. Program to divide two numbers"
   ]
  },
  {
   "cell_type": "code",
   "execution_count": 107,
   "id": "e9a1e265",
   "metadata": {},
   "outputs": [
    {
     "name": "stdout",
     "output_type": "stream",
     "text": [
      "We can't divide by zero!\n"
     ]
    }
   ],
   "source": [
    "def div(a,b):\n",
    "    try:\n",
    "        return a/b\n",
    "    except ZeroDivisionError:\n",
    "        print(\"We can't divide by zero!\")\n",
    "    \n",
    "div(12,0)\n",
    "        "
   ]
  },
  {
   "cell_type": "markdown",
   "id": "e272c023",
   "metadata": {},
   "source": [
    "#### b. Program to convert a string to an integer\n"
   ]
  },
  {
   "cell_type": "code",
   "execution_count": 111,
   "id": "6b9e384b",
   "metadata": {},
   "outputs": [
    {
     "data": {
      "text/plain": [
       "34"
      ]
     },
     "execution_count": 111,
     "metadata": {},
     "output_type": "execute_result"
    }
   ],
   "source": [
    "def s_to_int(s):\n",
    "    try:\n",
    "        return int(s)\n",
    "    except ValueError:\n",
    "        print(\"The argument value has to be a number\")\n",
    "        \n",
    "\n",
    "s_to_int(\"34\")"
   ]
  },
  {
   "cell_type": "markdown",
   "id": "445dcb81",
   "metadata": {},
   "source": [
    "#### c. Program to access an element in a list\n"
   ]
  },
  {
   "cell_type": "code",
   "execution_count": 114,
   "id": "bbdfbb0e",
   "metadata": {},
   "outputs": [
    {
     "name": "stdout",
     "output_type": "stream",
     "text": [
      "The index has to be between 0 and length of the list\n"
     ]
    }
   ],
   "source": [
    "def access_list(l,i):\n",
    "    try:\n",
    "        return (l[i])\n",
    "    except IndexError:\n",
    "        print(\"The index has to be between 0 and length of the list\")\n",
    "        \n",
    "access_list([1,2,2,4],4)"
   ]
  },
  {
   "cell_type": "markdown",
   "id": "12580694",
   "metadata": {},
   "source": [
    "#### d. Program to handle a specific exception"
   ]
  },
  {
   "cell_type": "code",
   "execution_count": 118,
   "id": "70a447ee",
   "metadata": {},
   "outputs": [
    {
     "name": "stdout",
     "output_type": "stream",
     "text": [
      "We can't divide by zero!\n"
     ]
    }
   ],
   "source": [
    "def div(a,b):\n",
    "    try:\n",
    "        return a/b\n",
    "    except ZeroDivisionError:\n",
    "        print(\"We can't divide by zero!\")\n",
    "    \n",
    "div(12,0)\n",
    "        \n",
    "#Here we have get the divide by zero,when b is zero, and we are handling that particular exception in except block."
   ]
  },
  {
   "cell_type": "markdown",
   "id": "6b038239",
   "metadata": {},
   "source": [
    "#### e. Program to handle any exception"
   ]
  },
  {
   "cell_type": "code",
   "execution_count": 126,
   "id": "cb68f237",
   "metadata": {},
   "outputs": [
    {
     "name": "stdout",
     "output_type": "stream",
     "text": [
      "There is something wrong with the values\n",
      "There is something wrong with the values\n"
     ]
    }
   ],
   "source": [
    "#Here we put only except key word and will be generic exception\n",
    "def gen(x):\n",
    "    try :\n",
    "        x = x+1 / x\n",
    "    except:    # generic exception\n",
    "        print(\"There is something wrong with the values\")\n",
    "    \n",
    "t1 = gen(0) #  ZeroDivision Error\n",
    "t2 = gen('a') # value error"
   ]
  },
  {
   "cell_type": "code",
   "execution_count": null,
   "id": "c7b0ad45",
   "metadata": {},
   "outputs": [],
   "source": []
  }
 ],
 "metadata": {
  "kernelspec": {
   "display_name": "Python 3 (ipykernel)",
   "language": "python",
   "name": "python3"
  },
  "language_info": {
   "codemirror_mode": {
    "name": "ipython",
    "version": 3
   },
   "file_extension": ".py",
   "mimetype": "text/x-python",
   "name": "python",
   "nbconvert_exporter": "python",
   "pygments_lexer": "ipython3",
   "version": "3.11.5"
  }
 },
 "nbformat": 4,
 "nbformat_minor": 5
}
