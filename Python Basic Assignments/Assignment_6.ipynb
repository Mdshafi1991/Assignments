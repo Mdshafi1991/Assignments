{
 "cells": [
  {
   "cell_type": "markdown",
   "id": "5c13caf8",
   "metadata": {},
   "source": [
    "#### Q.1. What are keywords in python? Using the keyword library, print all the python keywords."
   ]
  },
  {
   "cell_type": "markdown",
   "id": "2ccf3385",
   "metadata": {},
   "source": [
    "keywords are reserved words, which can not be used as variable names. below are the list of the keywords."
   ]
  },
  {
   "cell_type": "code",
   "execution_count": 15,
   "id": "3504617b",
   "metadata": {},
   "outputs": [
    {
     "name": "stdout",
     "output_type": "stream",
     "text": [
      "['False', 'None', 'True', 'and', 'as', 'assert', 'async', 'await', 'break', 'class', 'continue', 'def', 'del', 'elif', 'else', 'except', 'finally', 'for', 'from', 'global', 'if', 'import', 'in', 'is', 'lambda', 'nonlocal', 'not', 'or', 'pass', 'raise', 'return', 'try', 'while', 'with', 'yield']\n"
     ]
    }
   ],
   "source": [
    "import keyword\n",
    "print(keyword.kwlist)"
   ]
  },
  {
   "cell_type": "markdown",
   "id": "90fbae09",
   "metadata": {},
   "source": [
    "#### Q.2. What are the rules to create variables in python?"
   ]
  },
  {
   "cell_type": "markdown",
   "id": "a98938aa",
   "metadata": {},
   "source": [
    "The rules are:\n",
    "\n",
    "   1) The variable name can not be a keyword of python.\n",
    "   2) The variable name can not start with a digit and can start only with a letter and underscore.\n",
    "   3) The variable name can't have multiple space separated words.\n",
    "   4) The variabale name can only have alpha numeric characters and underscore."
   ]
  },
  {
   "cell_type": "markdown",
   "id": "aa73f507",
   "metadata": {},
   "source": [
    "#### Q.3. What are the standards and conventions followed for the nomenclature of variables in python to improve code readability and maintainability?"
   ]
  },
  {
   "cell_type": "markdown",
   "id": "35ea23a5",
   "metadata": {},
   "source": [
    "The following conventions are followed:\n",
    "1) variable names should be all lower case.\n",
    "2) Words in an instance variable name should be separated by an underscore.\n",
    "3) Protected instance variables should begin with a single underscore.\n",
    "4) Private instance variables should begin with two underscores."
   ]
  },
  {
   "cell_type": "markdown",
   "id": "53eb6fbf",
   "metadata": {},
   "source": [
    "#### Q.4. What will happen if a keyword is used as a variable name?"
   ]
  },
  {
   "cell_type": "markdown",
   "id": "42087fcb",
   "metadata": {},
   "source": [
    "We will get an SyntaxError saying cannot assign to the keyword."
   ]
  },
  {
   "cell_type": "markdown",
   "id": "3f53807e",
   "metadata": {},
   "source": [
    "#### Q.5. For what purpose def keyword is used?"
   ]
  },
  {
   "cell_type": "markdown",
   "id": "daf92e75",
   "metadata": {},
   "source": [
    "It is used to define a function in python."
   ]
  },
  {
   "cell_type": "markdown",
   "id": "0661a773",
   "metadata": {},
   "source": [
    "#### Q.6. What is the operation of this special character ‘\\’?"
   ]
  },
  {
   "cell_type": "markdown",
   "id": "9ecf9ee5",
   "metadata": {},
   "source": [
    "It is used to represent certain white space characters like tab (\\t) and newline(\\n)."
   ]
  },
  {
   "cell_type": "markdown",
   "id": "b5abe80d",
   "metadata": {},
   "source": [
    "#### Q.7. Give an example of the following conditions:\n",
    "#### (i) Homogeneous list\n",
    "#### (ii) Heterogeneous set\n",
    "#### (iii) Homogeneous tuple"
   ]
  },
  {
   "cell_type": "markdown",
   "id": "d246a39e",
   "metadata": {},
   "source": [
    "    (i) Homogeneous list\n",
    "    [1,23,4,6,7,8]\n",
    "    All elements are integers.\n",
    "\n",
    "    (ii) Heterogeneous set\n",
    "    {1,2,3,'hello','Delhi','cat'}\n",
    "    Few elements are integers and few are strings.\n",
    "\n",
    "    (iii) Homogeneous tuple\n",
    "    ('a','e','i','o','u')\n",
    "    All elements are letters (string)\n"
   ]
  },
  {
   "cell_type": "markdown",
   "id": "a1853266",
   "metadata": {},
   "source": [
    "#### Q.8. Explain the mutable and immutable data types with proper explanation & examples."
   ]
  },
  {
   "cell_type": "markdown",
   "id": "8e294c15",
   "metadata": {},
   "source": [
    "Mutable Data types:  Those that can be changed after they are created.\n",
    "#### lists.\n",
    "    eg: l1 = [1,23,4,5] \n",
    "        we can now modify the list l1 with 90 at the index 2 by the statement , l1[2]=90\n",
    "        The modified list will be [1,23,90,5]\n",
    "        \n",
    "#### dictionaries\n",
    "    eg: d1={1:'one',2:'two',3:'three'}\n",
    "        We can update the value of a key or can add a new element (key : pair value)\n",
    "        d1.update({4:'four'})\n",
    "        This modifies the dictionary d1 as {1:'one',2:'two',3:'three',4:'four'}\n",
    "#### sets\n",
    "    s1={1,3,4}\n",
    "    s1.add(8) make the set to {1,3,4,8}\n",
    "    \n",
    "immutable data types: Those that can not be changed after they are created.\n",
    "#### tuples\n",
    "    t=(1,3,4)\n",
    "    t[1]=0 will result into error. and we can not change the tuple t.\n",
    "    \n",
    "#### string\n",
    "    s1='hello'\n",
    "    s1[1]='I' will result into error. and we can not change the string hello.\n",
    "    \n",
    "\n",
    "    "
   ]
  },
  {
   "cell_type": "markdown",
   "id": "803b7833",
   "metadata": {},
   "source": [
    "#### Q.9. Write a code to create the given structure using only for loop.\n",
    "        *\n",
    "       ***\n",
    "      *****\n",
    "     *******\n",
    "    *********"
   ]
  },
  {
   "cell_type": "code",
   "execution_count": 16,
   "id": "25aaa3df",
   "metadata": {},
   "outputs": [
    {
     "name": "stdout",
     "output_type": "stream",
     "text": [
      "     \n",
      "    *\n",
      "   ***\n",
      "  *****\n",
      " *******\n",
      "*********\n"
     ]
    }
   ],
   "source": [
    "n=5\n",
    "for i in range(n+1):\n",
    "    print(' '*(n-i),end='')\n",
    "    print('*'*(2*i-1))\n"
   ]
  },
  {
   "cell_type": "markdown",
   "id": "a2e3d162",
   "metadata": {},
   "source": [
    "#### Q.10. Write a code to create the given structure using while loop.\n",
    "    |||||||||\n",
    "     |||||||\n",
    "      |||||\n",
    "       |||\n",
    "        |"
   ]
  },
  {
   "cell_type": "code",
   "execution_count": 17,
   "id": "be459fe7",
   "metadata": {},
   "outputs": [
    {
     "name": "stdout",
     "output_type": "stream",
     "text": [
      "|||||||||\n",
      " |||||||\n",
      "  |||||\n",
      "   |||\n",
      "    |\n",
      "     \n"
     ]
    }
   ],
   "source": [
    "n = 5\n",
    "i = n\n",
    "while i >= 0:\n",
    "    print((n - i)*\" \",end='')\n",
    "    print('|' * (2*i - 1))\n",
    "    i=i-1    "
   ]
  },
  {
   "cell_type": "code",
   "execution_count": null,
   "id": "96fa8dfc",
   "metadata": {},
   "outputs": [],
   "source": []
  },
  {
   "cell_type": "code",
   "execution_count": null,
   "id": "35a9dc52",
   "metadata": {},
   "outputs": [],
   "source": []
  }
 ],
 "metadata": {
  "kernelspec": {
   "display_name": "Python 3 (ipykernel)",
   "language": "python",
   "name": "python3"
  },
  "language_info": {
   "codemirror_mode": {
    "name": "ipython",
    "version": 3
   },
   "file_extension": ".py",
   "mimetype": "text/x-python",
   "name": "python",
   "nbconvert_exporter": "python",
   "pygments_lexer": "ipython3",
   "version": "3.11.5"
  }
 },
 "nbformat": 4,
 "nbformat_minor": 5
}
