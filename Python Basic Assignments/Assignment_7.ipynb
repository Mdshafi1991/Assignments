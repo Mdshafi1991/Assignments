{
 "cells": [
  {
   "cell_type": "markdown",
   "id": "4cd999ff",
   "metadata": {},
   "source": [
    "####    Q.1. \n",
    "####    Create two int type variables, apply addition, subtraction, division and multiplications\n",
    "####    and store the results in variables. Then print the data in the following format by calling the\n",
    "####    variables:\n",
    "    First variable is __ & second variable is __.\n",
    "    Addition: __ + __ = __\n",
    "    Subtraction: __ - __ = __\n",
    "    Multiplication: __ * __ = __\n",
    "    Division: __ / __ = __"
   ]
  },
  {
   "cell_type": "code",
   "execution_count": 20,
   "id": "6d81ce4d",
   "metadata": {},
   "outputs": [
    {
     "name": "stdout",
     "output_type": "stream",
     "text": [
      "First variable is 60 & second variable is 30.\n",
      "Addition: 60 + 30 = 90\n",
      "Subtraction: 60 - 30 = 30\n",
      "Multiplication: 60 * 30 = 1800\n",
      "Division: 60 / 30 = 2.0\n"
     ]
    }
   ],
   "source": [
    "var_1 = 60\n",
    "var_2 = 30\n",
    "\n",
    "summation = var_1 + var_2\n",
    "difference = var_1 - var_2\n",
    "quotient = var_1 / var_2\n",
    "product = var_1 * var_2\n",
    "\n",
    "print(f'First variable is {var_1} & second variable is {var_2}.')\n",
    "print(f'Addition: {var_1} + {var_2} = {summation}')\n",
    "print(f'Subtraction: {var_1} - {var_2} = {difference}')\n",
    "print(f'Multiplication: {var_1} * {var_2} = {product}')\n",
    "print(f'Division: {var_1} / {var_2} = {quotient}')"
   ]
  },
  {
   "cell_type": "code",
   "execution_count": null,
   "id": "8c0f5c54",
   "metadata": {},
   "outputs": [],
   "source": []
  },
  {
   "cell_type": "markdown",
   "id": "eb630f87",
   "metadata": {},
   "source": [
    "#### Q.2. \n",
    "#### What is the difference between the following operators:\n",
    "    (i) ‘/’ & ‘//’\n",
    "    (ii) ‘**’ & ‘^’"
   ]
  },
  {
   "cell_type": "markdown",
   "id": "d59955a1",
   "metadata": {},
   "source": [
    "    (i) \n",
    "    '/' is the division operator which performs floating point division and gives result of float type.\n",
    "    '//' is the floor division operator which gives the integer part of the result.\n",
    "\n",
    "    (ii)\n",
    "    '**' is the exponent operator , 2**3 means 2 to the power of 3 .\n",
    "    '^' is the bitwise XOR operator , 2^3 means 10(binary) XOR 11(binary) = 01(binary)= 1(decimal)"
   ]
  },
  {
   "cell_type": "code",
   "execution_count": null,
   "id": "1a7f4105",
   "metadata": {},
   "outputs": [],
   "source": []
  },
  {
   "cell_type": "markdown",
   "id": "28fe60ca",
   "metadata": {},
   "source": [
    "#### Q.3. \n",
    "#### List the logical operators."
   ]
  },
  {
   "cell_type": "markdown",
   "id": "57afeb2a",
   "metadata": {},
   "source": [
    "    The 3 logical operators in python are:\n",
    "    and\n",
    "    or\n",
    "    not"
   ]
  },
  {
   "cell_type": "raw",
   "id": "43844627",
   "metadata": {},
   "source": []
  },
  {
   "cell_type": "markdown",
   "id": "3404afde",
   "metadata": {},
   "source": [
    "#### Q.4. \n",
    "#### Explain right shift operator and left shift operator with examples."
   ]
  },
  {
   "cell_type": "markdown",
   "id": "8424926d",
   "metadata": {},
   "source": [
    "    Right shift operator (>>):\n",
    "        It shifts the binary bits to right the given number of times.\n",
    "        eg: 8 >> 2 gives us 2 (1000(binary) ==> 0010(binary))\n",
    "\n",
    "    Left shift operator (<<):\n",
    "        It shifts the binary bits to left the given number of times.\n",
    "        eg: 8 << 2 gives us 32 (1000(binary) ==> 100000(binary))"
   ]
  },
  {
   "cell_type": "code",
   "execution_count": null,
   "id": "4b14187c",
   "metadata": {},
   "outputs": [],
   "source": []
  },
  {
   "cell_type": "markdown",
   "id": "698f8e27",
   "metadata": {},
   "source": [
    "#### Q.5. \n",
    "####     Create a list containing int type data of length 15. Then write a code to check if 10 is\n",
    "####     present in the list or not."
   ]
  },
  {
   "cell_type": "code",
   "execution_count": 21,
   "id": "c57d4e7f",
   "metadata": {},
   "outputs": [
    {
     "name": "stdout",
     "output_type": "stream",
     "text": [
      "10 is not present in the list.\n"
     ]
    }
   ],
   "source": [
    "integer_list=[3,5,6,7,8,19,24,13,199,234,200,33,45,321,876]\n",
    "\n",
    "n=10\n",
    "if n in integer_list:\n",
    "    print (f'{n} is present in the list.')\n",
    "else:\n",
    "    print (f'{n} is not present in the list.')"
   ]
  },
  {
   "cell_type": "code",
   "execution_count": null,
   "id": "d4cc02ad",
   "metadata": {},
   "outputs": [],
   "source": []
  }
 ],
 "metadata": {
  "kernelspec": {
   "display_name": "Python 3 (ipykernel)",
   "language": "python",
   "name": "python3"
  },
  "language_info": {
   "codemirror_mode": {
    "name": "ipython",
    "version": 3
   },
   "file_extension": ".py",
   "mimetype": "text/x-python",
   "name": "python",
   "nbconvert_exporter": "python",
   "pygments_lexer": "ipython3",
   "version": "3.11.5"
  }
 },
 "nbformat": 4,
 "nbformat_minor": 5
}
