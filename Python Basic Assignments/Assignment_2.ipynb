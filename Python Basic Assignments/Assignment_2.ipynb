{
 "cells": [
  {
   "cell_type": "markdown",
   "id": "25032655",
   "metadata": {},
   "source": [
    "#### Q1.What are the two values of the Boolean data type? How do you write them?"
   ]
  },
  {
   "cell_type": "markdown",
   "id": "e4971cd8",
   "metadata": {},
   "source": [
    "    The Boolean data type has two values , True and False\n",
    "    We write those as the words True , False "
   ]
  },
  {
   "cell_type": "markdown",
   "id": "98931a98",
   "metadata": {},
   "source": [
    "#### Q2. What are the three different types of Boolean operators?"
   ]
  },
  {
   "cell_type": "markdown",
   "id": "b0e8f2f7",
   "metadata": {},
   "source": [
    "    The three operators are namely : AND, OR and NOT\n",
    "\n",
    "    The key words are:\n",
    "    and for AND\n",
    "    or for OR\n",
    "    and for AND"
   ]
  },
  {
   "cell_type": "markdown",
   "id": "73ec283b",
   "metadata": {},
   "source": [
    "#### Q3. Make a list of each Boolean operator's truth tables.(i.e. every possible combination of Boolean values for the operator and what it evaluate )."
   ]
  },
  {
   "cell_type": "markdown",
   "id": "a2da4400",
   "metadata": {},
   "source": [
    "|Truth table of and|\n",
    "---\n",
    "\n",
    "| A | B | A and B |\n",
    "| --- | --- | --- |\n",
    "| True | False | False |\n",
    "| True | True  | True  |\n",
    "| False | False | False |\n",
    "| False | True  | False  |\n",
    "\n",
    "|Truth table of or|\n",
    "---\n",
    "\n",
    "\n",
    "| A | B | A or B |\n",
    "| --- | --- | --- |\n",
    "| True | False | True |\n",
    "| True | True  | True  |\n",
    "| False | False | False |\n",
    "| False | True  | True  |\n",
    "\n",
    "\n",
    "|Truth table of not|\n",
    "---\n",
    "\n",
    "| A | not A |\n",
    "| --- | --- | \n",
    "| True | False | \n",
    "| False | True  | "
   ]
  },
  {
   "cell_type": "markdown",
   "id": "3a3d572e",
   "metadata": {},
   "source": [
    "##### Q4. What are the values of the following expressions?\n",
    "(5 > 4) and (3 == 5)\n",
    "not (5 > 4)\n",
    "(5 &gt; 4) or (3 == 5)\n",
    "not ((5 &gt; 4) or (3 == 5))\n",
    "(True and True) and (True == False)\n",
    "(not False) or (not True)\n"
   ]
  },
  {
   "cell_type": "markdown",
   "id": "5ed9dd57",
   "metadata": {},
   "source": [
    "### The values are:\n",
    "\n",
    "    (5 > 4) and (3 == 5) ==> True and False ==>  False\n",
    "\n",
    "    not (5 > 4) ==> not True ==> False\n",
    "\n",
    "    (5 > 4) or (3 == 5) ==> True or False ==> True\n",
    "\n",
    "    not((5 > 4) or (3 == 5)) not (True or False) ==> not(True)==> False\n",
    "\n",
    "    (True and True) and (True == False) ==> True and False ==> False\n",
    "\n",
    "    (not False) or (not True) ==> True or False ==> True"
   ]
  },
  {
   "cell_type": "markdown",
   "id": "4df71d5d",
   "metadata": {},
   "source": [
    "#### Q5. What are the six comparison operators?"
   ]
  },
  {
   "cell_type": "markdown",
   "id": "2675fd18",
   "metadata": {},
   "source": [
    "    The six comparison operators are :\n",
    "    == to check for equality between the two operands\n",
    "    != to check for inequality between two operands\n",
    "    >  to check if first operand is greater than the second one \n",
    "    <  to check if first operand is less than the second one\n",
    "    >= to check if first operand is greater than or equal to the second one\n",
    "    <= to check if first operand is less than or equal to the second one\n",
    "    "
   ]
  },
  {
   "cell_type": "markdown",
   "id": "82738c2b",
   "metadata": {},
   "source": [
    "#### 6. How do you tell the difference between the equal to and assignment operators?Describe a condition and when you would use one."
   ]
  },
  {
   "cell_type": "markdown",
   "id": "ab5bcc18",
   "metadata": {},
   "source": [
    "    The Equal to operator is indicated by two equals (==) symbol,\n",
    "    Where as assignment operator is indicated by a single equals symbol.\n",
    "    \n",
    "    Use cases:\n",
    "    When we need to compare two variables or values for equality we use equal to operator. \n",
    "    eg: a == b compares a and b and returns False or True depending on a and b values, when a=4, b=4 returns True,\n",
    "    when a=5, b=4 returns False\n",
    "    \n",
    "    When we need to assign/ give a value to a variable , we use assignment operator for this purpose . \n",
    "    eg: When you need to assign 10 to a variable 'v' we use v=10\n",
    "    \n",
    "    "
   ]
  },
  {
   "cell_type": "markdown",
   "id": "0806dd11",
   "metadata": {},
   "source": [
    "#### Q7. Identify the three blocks in this code:\n",
    "spam = 0\n",
    "if spam == 10:\n",
    "    print('eggs')\n",
    "if spam > 5:\n",
    "    print('bacon')\n",
    "else:\n",
    "    print('ham')\n",
    "print('spam')\n",
    "print('spam')"
   ]
  },
  {
   "cell_type": "markdown",
   "id": "92615e40",
   "metadata": {},
   "source": [
    "    The three blocks are as below.\n",
    "    first if block:\n",
    "    \n",
    "    if spam == 10:\n",
    "        print('eggs')\n",
    "       \n",
    "    second if block:\n",
    "    \n",
    "    if spam == 10:\n",
    "        print('eggs')\n",
    "    \n",
    "    third one is the else block:\n",
    "    \n",
    "    else:\n",
    "        print('ham')\n",
    "    \n",
    "    \n"
   ]
  },
  {
   "cell_type": "markdown",
   "id": "6f3662fe",
   "metadata": {},
   "source": [
    "#### Q8. Write code that prints Hello if 1 is stored in spam, prints Howdy if 2 is stored in spam, and prints Greetings! if anything else is stored in spam."
   ]
  },
  {
   "cell_type": "code",
   "execution_count": 1,
   "id": "cfca59b8",
   "metadata": {},
   "outputs": [
    {
     "name": "stdout",
     "output_type": "stream",
     "text": [
      "Hello\n",
      "Howdy\n",
      "Greetings!\n"
     ]
    }
   ],
   "source": [
    "def check_spam(spam):\n",
    "    if spam == 1:\n",
    "        print('Hello')\n",
    "    elif spam == 2:\n",
    "        print('Howdy')\n",
    "    else:\n",
    "        print('Greetings!')\n",
    "\n",
    "\n",
    "spam=1\n",
    "check_spam(spam)\n",
    "\n",
    "spam=2\n",
    "check_spam(spam)\n",
    "\n",
    "spam=5\n",
    "check_spam(spam)\n"
   ]
  },
  {
   "cell_type": "markdown",
   "id": "383b8530",
   "metadata": {},
   "source": [
    "### Q9.If your programme is stuck in an endless loop, what keys you’ll press?"
   ]
  },
  {
   "cell_type": "markdown",
   "id": "c4ddd465",
   "metadata": {},
   "source": [
    "    The key board keys are : Cntl + c"
   ]
  },
  {
   "cell_type": "markdown",
   "id": "cd4cb8ba",
   "metadata": {},
   "source": [
    "## Q10. How can you tell the difference between break and continue?"
   ]
  },
  {
   "cell_type": "markdown",
   "id": "440c9d05",
   "metadata": {},
   "source": [
    "    The break statement ends the loop and the code after the loop will be executed, where as continue is \n",
    "    used when we need to skip one or more conditions and to continue the next iterations of the loop."
   ]
  },
  {
   "cell_type": "markdown",
   "id": "55310f1d",
   "metadata": {},
   "source": [
    "#### Q11. In a for loop, what is the difference between range(10), range(0, 10), and range(0, 10, 1)?"
   ]
  },
  {
   "cell_type": "markdown",
   "id": "dbf0b975",
   "metadata": {},
   "source": [
    "    All three instructions prforms the same functionality.\n",
    "    The first one takes default initial value 0.\n",
    "    Second one is explicitly initialising the iterator to be 0.\n",
    "    In the third one we are also specifying the increment to be performed explicitly as 1 where the first two instruction takes default increment as 1"
   ]
  },
  {
   "cell_type": "markdown",
   "id": "ad098fdc",
   "metadata": {},
   "source": [
    "#### Q12. Write a short program that prints the numbers 1 to 10 using a for loop. Then write an equivalent program that prints the numbers 1 to 10 using a while loop."
   ]
  },
  {
   "cell_type": "code",
   "execution_count": 2,
   "id": "8b995306",
   "metadata": {},
   "outputs": [
    {
     "name": "stdout",
     "output_type": "stream",
     "text": [
      "1\n",
      "2\n",
      "3\n",
      "4\n",
      "5\n",
      "6\n",
      "7\n",
      "8\n",
      "9\n",
      "10\n"
     ]
    }
   ],
   "source": [
    "#for loop\n",
    "for i in range(1,10+1):\n",
    "    print(i)"
   ]
  },
  {
   "cell_type": "code",
   "execution_count": 3,
   "id": "096d5e20",
   "metadata": {},
   "outputs": [
    {
     "name": "stdout",
     "output_type": "stream",
     "text": [
      "1\n",
      "2\n",
      "3\n",
      "4\n",
      "5\n",
      "6\n",
      "7\n",
      "8\n",
      "9\n",
      "10\n"
     ]
    }
   ],
   "source": [
    "#while loop\n",
    "i=1\n",
    "while i<=10:\n",
    "    print(i)\n",
    "    i+=1"
   ]
  },
  {
   "cell_type": "markdown",
   "id": "92590977",
   "metadata": {},
   "source": [
    "#### Q13. If you had a function named bacon() inside a module named spam, how would you call it after importing spam?"
   ]
  },
  {
   "cell_type": "markdown",
   "id": "09101ab4",
   "metadata": {},
   "source": [
    "    we use the following syntax:\n",
    "    import spam   # To import the module spam\n",
    "    spam.bacon()  # To call the fucntion bacon using the module dot function syntax"
   ]
  }
 ],
 "metadata": {
  "kernelspec": {
   "display_name": "Python 3 (ipykernel)",
   "language": "python",
   "name": "python3"
  },
  "language_info": {
   "codemirror_mode": {
    "name": "ipython",
    "version": 3
   },
   "file_extension": ".py",
   "mimetype": "text/x-python",
   "name": "python",
   "nbconvert_exporter": "python",
   "pygments_lexer": "ipython3",
   "version": "3.11.5"
  }
 },
 "nbformat": 4,
 "nbformat_minor": 5
}
