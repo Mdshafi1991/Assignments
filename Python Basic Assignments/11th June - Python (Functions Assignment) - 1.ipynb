{
 "cells": [
  {
   "cell_type": "markdown",
   "id": "65a54b64",
   "metadata": {},
   "source": [
    "#### 1. What is a lambda function in Python, and how does it differ from a regular function?\n"
   ]
  },
  {
   "cell_type": "markdown",
   "id": "f42f3699",
   "metadata": {},
   "source": [
    "A lambda function is an anonymous, simple and usually one line function. \n",
    "\n",
    "The syntax is:\n",
    "\n",
    "    lambda <arguments> <:> <expression>\n",
    "    calling lambda function:\n",
    "    (lambda <arguments> <:> <expression>) (arguments)\n",
    "    eg: lambda x: x**2) (10)  # gives us 100\n",
    "\n",
    "It differs from the regular functions in the following ways:\n",
    "    \n",
    "    1) Definition : Lambda functions are defined using the key word \"lambda\" where the regular one using\n",
    "                    \"def\" key word.\n",
    "    \n",
    "    2) Return statement: No return statement in lambda function, where it is optional in regular functions.\n",
    "    \n",
    "    3) Name: There is no need to name a lambda function to use it, where as regular function needs to be named and called using the name.\n",
    "    \n",
    "    4) complexity: Lambda functions are in general simpler than regular ones.\n",
    "    \n",
    "    5) reusability: Though both types of functions can be re-used, the purpose of the lambda fucntion is to \n",
    "    use only for limited times.\n",
    "    \n",
    " Below is the code for a simle lambda function to give square of a given number"
   ]
  },
  {
   "cell_type": "code",
   "execution_count": 10,
   "id": "4f4d9ece",
   "metadata": {},
   "outputs": [
    {
     "data": {
      "text/plain": [
       "81"
      ]
     },
     "execution_count": 10,
     "metadata": {},
     "output_type": "execute_result"
    }
   ],
   "source": [
    "(lambda x: x ** 2)(9)\n"
   ]
  },
  {
   "cell_type": "markdown",
   "id": "f89bb738",
   "metadata": {},
   "source": [
    "#### 2. Can a lambda function in Python have multiple arguments? If yes, how can you define and use them?"
   ]
  },
  {
   "cell_type": "markdown",
   "id": "32cc48a3",
   "metadata": {},
   "source": [
    "Yes, a lambda function can have multiple arguments.\n",
    "\n",
    "We define them as arguments after the key word lambda. Then pass the arguments as we do in general function i.e. in parenthesis.\n",
    "\n",
    "eg: \n",
    "    (lambda x, y, z : x + y + z) (3,4,5)"
   ]
  },
  {
   "cell_type": "code",
   "execution_count": 14,
   "id": "62ba706a",
   "metadata": {},
   "outputs": [
    {
     "data": {
      "text/plain": [
       "12"
      ]
     },
     "execution_count": 14,
     "metadata": {},
     "output_type": "execute_result"
    }
   ],
   "source": [
    "(lambda x, y, z : x + y + z) (3,4,5)"
   ]
  },
  {
   "cell_type": "markdown",
   "id": "d68ff2e4",
   "metadata": {},
   "source": [
    "#### 3. How are lambda functions typically used in Python? Provide an example use case."
   ]
  },
  {
   "cell_type": "markdown",
   "id": "014a6390",
   "metadata": {},
   "source": [
    "The general use cases are: \n",
    "    \n",
    "    1) To use as an argument to an higher order function.\n",
    "        eg: map(lambda x: abs(x), list_1 )\n",
    "    2) a scenario where we need a simple expression only for limited no of times.\n",
    "    3) To perform a simple operation inside another regular function.\n",
    "    \n",
    "        def squre_plus_cube(a1):\n",
    "            actual_input = (lambda x: int(x))(a1)  # To convert any floats to int\n",
    "            return actual_input ** 2 + actual_input ** 3\n",
    "            "
   ]
  },
  {
   "cell_type": "code",
   "execution_count": 24,
   "id": "4f7897e7",
   "metadata": {},
   "outputs": [
    {
     "data": {
      "text/plain": [
       "12"
      ]
     },
     "execution_count": 24,
     "metadata": {},
     "output_type": "execute_result"
    }
   ],
   "source": [
    "#case1:\n",
    "list_1 = [1,3,-4]\n",
    "a = list(map(lambda x: abs(x), list_1 ))\n",
    "\n",
    "#case3:\n",
    "def squre_plus_cube(a1):\n",
    "    actual_input = (lambda x: int(x))(a1)  # To convert any floats to int\n",
    "    return actual_input ** 2 + actual_input ** 3\n",
    "\n",
    "    \n",
    "squre_plus_cube(2.5) # gives us 2**2 + 2**3 where lambda function is used to convert the input 2.5 to 2"
   ]
  },
  {
   "cell_type": "markdown",
   "id": "728aa24a",
   "metadata": {},
   "source": [
    "#### 4. What are the advantages and limitations of lambda functions compared to regular functions in Python?"
   ]
  },
  {
   "cell_type": "markdown",
   "id": "5cf63250",
   "metadata": {},
   "source": [
    "Advantages:\n",
    "\n",
    "    Conciseness: Lambda functions are concise and can be defined in a single line of code. \n",
    "        \n",
    "    Readability in case of simple functions: Lambda functions can enhance readability when used appropriately.\n",
    "\n",
    "    Functional Programming: Lambda functions are often used in conjunction with functional programming constructs like map(), filter(), and reduce(). \n",
    "\n",
    "Limitations:\n",
    "\n",
    "    Limited Functionality: Lambda functions are restricted to a single expression and cannot contain statements or multiple lines of code.\n",
    "\n",
    "    Lack of Name: Lambda functions are anonymous, meaning they do not have a name associated with them. This can make debugging difficult.\n",
    "\n",
    "    Reduced Readability in case of Complex Operations: Using lambda functions excessively or inappropriately may lead to less understandable code.\n",
    "\n"
   ]
  },
  {
   "cell_type": "markdown",
   "id": "a3624053",
   "metadata": {},
   "source": [
    "#### 5. Are lambda functions in Python able to access variables defined outside of their own scope? Explain with an example."
   ]
  },
  {
   "cell_type": "markdown",
   "id": "8bd49604",
   "metadata": {},
   "source": [
    "Yes, they can access the variables from outside their scope. Below is the example."
   ]
  },
  {
   "cell_type": "code",
   "execution_count": 26,
   "id": "c54b8ec8",
   "metadata": {},
   "outputs": [
    {
     "data": {
      "text/plain": [
       "48"
      ]
     },
     "execution_count": 26,
     "metadata": {},
     "output_type": "execute_result"
    }
   ],
   "source": [
    "def outer(a,b):\n",
    "    x = 9\n",
    "    y = 10   # X and y are accessed in the lambda function in the below line\n",
    "    \n",
    "    res = (lambda a1,b1: x * a1 + y * b1)(a,b) # a and b which are passed outside the function as arguments to the outer function are also accessed.\n",
    "    return res\n",
    "\n",
    "outer(2,3)\n",
    "    "
   ]
  },
  {
   "cell_type": "markdown",
   "id": "660a7a76",
   "metadata": {},
   "source": [
    "#### 6. Write a lambda function to calculate the square of a given number."
   ]
  },
  {
   "cell_type": "code",
   "execution_count": 31,
   "id": "df0f03de",
   "metadata": {},
   "outputs": [
    {
     "name": "stdout",
     "output_type": "stream",
     "text": [
      "With naming : 81\n",
      "Without naming : 64\n"
     ]
    }
   ],
   "source": [
    "f = lambda x : x ** 2 #definition\n",
    "print(\"With naming :\",f(9)) #usage \n",
    "\n",
    "#we can directly call the function without the naming it.\n",
    "print(\"Without naming :\",(lambda y: y ** 2)(8))"
   ]
  },
  {
   "cell_type": "markdown",
   "id": "114b64eb",
   "metadata": {},
   "source": [
    "#### 7. Create a lambda function to find the maximum value in a list of integers."
   ]
  },
  {
   "cell_type": "code",
   "execution_count": 35,
   "id": "0e5f02d3",
   "metadata": {},
   "outputs": [
    {
     "name": "stdout",
     "output_type": "stream",
     "text": [
      "Max value of the list is 99\n"
     ]
    }
   ],
   "source": [
    "f1 = lambda list_1 : max(list_1)\n",
    "\n",
    "list_int = [4,5,6,7,89,98,99]\n",
    "print(\"Max value of the list is\",f1(list_int))"
   ]
  },
  {
   "cell_type": "markdown",
   "id": "70de1187",
   "metadata": {},
   "source": [
    "#### 8. Implement a lambda function to filter out all the even numbers from a list of integers."
   ]
  },
  {
   "cell_type": "code",
   "execution_count": 7,
   "id": "28acddab",
   "metadata": {},
   "outputs": [
    {
     "data": {
      "text/plain": [
       "[4, 6, 98, 100, 102]"
      ]
     },
     "execution_count": 7,
     "metadata": {},
     "output_type": "execute_result"
    }
   ],
   "source": [
    "f2 = lambda list_2 : list(x for x in list_2 if x % 2 == 0 )\n",
    "list_int2 = [4,5,6,7,89,98,99,100,102,101]\n",
    "f2(list_int2)"
   ]
  },
  {
   "cell_type": "markdown",
   "id": "39b400a1",
   "metadata": {},
   "source": [
    "#### 9. Write a lambda function to sort a list of strings in ascending order based on the length of each string."
   ]
  },
  {
   "cell_type": "code",
   "execution_count": 13,
   "id": "f3a7e5f5",
   "metadata": {},
   "outputs": [
    {
     "data": {
      "text/plain": [
       "['a', 'ab', 'ab', 'cd', 'abc']"
      ]
     },
     "execution_count": 13,
     "metadata": {},
     "output_type": "execute_result"
    }
   ],
   "source": [
    "list_str1 = ['a','ab','abc','ab','cd']\n",
    "f3 = lambda list_str : sorted(list_str, key = lambda x: len(x))\n",
    "f3(list_str1)"
   ]
  },
  {
   "cell_type": "markdown",
   "id": "c5ff2175",
   "metadata": {},
   "source": [
    "#### 10. Create a lambda function that takes two lists as input and returns a new list containing the common elements between the two lists."
   ]
  },
  {
   "cell_type": "code",
   "execution_count": 15,
   "id": "20ab6757",
   "metadata": {},
   "outputs": [
    {
     "data": {
      "text/plain": [
       "[4, 5, 6, 7, 89, 98, 99]"
      ]
     },
     "execution_count": 15,
     "metadata": {},
     "output_type": "execute_result"
    }
   ],
   "source": [
    "f4 = lambda list_1,list_2: list(x for x in list_1 if x  in list_2)\n",
    "list_int = [4,5,6,7,89,98,99]\n",
    "list_int2 = [4,5,6,7,89,98,99,100,102,101]\n",
    "\n",
    "f4(list_int,list_int2)"
   ]
  },
  {
   "cell_type": "markdown",
   "id": "e37e6e21",
   "metadata": {},
   "source": [
    "#### 11. Write a recursive function to calculate the factorial of a given positive integer."
   ]
  },
  {
   "cell_type": "code",
   "execution_count": 17,
   "id": "5ae5a7d6",
   "metadata": {},
   "outputs": [
    {
     "data": {
      "text/plain": [
       "120"
      ]
     },
     "execution_count": 17,
     "metadata": {},
     "output_type": "execute_result"
    }
   ],
   "source": [
    "def r_fact(n):\n",
    "    if n == 0:\n",
    "        return 1\n",
    "    else:\n",
    "        return r_fact(n-1) * n\n",
    "r_fact(5)"
   ]
  },
  {
   "cell_type": "markdown",
   "id": "8bedbdbb",
   "metadata": {},
   "source": [
    "#### 12. Implement a recursive function to compute the nth Fibonacci number."
   ]
  },
  {
   "cell_type": "code",
   "execution_count": 37,
   "id": "fa9c7671",
   "metadata": {},
   "outputs": [
    {
     "data": {
      "text/plain": [
       "8"
      ]
     },
     "execution_count": 37,
     "metadata": {},
     "output_type": "execute_result"
    }
   ],
   "source": [
    "def r_fib(n):\n",
    "    if n == 1:\n",
    "        return 0\n",
    "    elif n == 2:\n",
    "        return 1\n",
    "    else:\n",
    "        return r_fib(n-2) + r_fib(n-1)\n",
    "    \n",
    "r_fib(7)"
   ]
  },
  {
   "cell_type": "markdown",
   "id": "7f15ade0",
   "metadata": {},
   "source": [
    "#### 13. Create a recursive function to find the sum of all the elements in a given list."
   ]
  },
  {
   "cell_type": "code",
   "execution_count": 41,
   "id": "161f5ccf",
   "metadata": {},
   "outputs": [
    {
     "data": {
      "text/plain": [
       "16"
      ]
     },
     "execution_count": 41,
     "metadata": {},
     "output_type": "execute_result"
    }
   ],
   "source": [
    "def r_sum(list1):\n",
    "    if len(list1) == 1:\n",
    "        return list1[0]\n",
    "    else:\n",
    "        return list1.pop() + r_sum(list1)\n",
    "    \n",
    "list_int = [1,2,3,4,6]\n",
    "r_sum(list_int)"
   ]
  },
  {
   "cell_type": "markdown",
   "id": "f1c016f3",
   "metadata": {},
   "source": [
    "#### 14. Write a recursive function to determine whether a given string is a palindrome."
   ]
  },
  {
   "cell_type": "code",
   "execution_count": null,
   "id": "a3ac6b96",
   "metadata": {},
   "outputs": [],
   "source": [
    "def r_pal_check(word):\n",
    "    "
   ]
  }
 ],
 "metadata": {
  "kernelspec": {
   "display_name": "Python 3 (ipykernel)",
   "language": "python",
   "name": "python3"
  },
  "language_info": {
   "codemirror_mode": {
    "name": "ipython",
    "version": 3
   },
   "file_extension": ".py",
   "mimetype": "text/x-python",
   "name": "python",
   "nbconvert_exporter": "python",
   "pygments_lexer": "ipython3",
   "version": "3.11.5"
  }
 },
 "nbformat": 4,
 "nbformat_minor": 5
}
