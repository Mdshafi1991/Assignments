{
 "cells": [
  {
   "cell_type": "markdown",
   "id": "a7baa71f",
   "metadata": {},
   "source": [
    "### 1. Why are functions advantageous to have in your programs?"
   ]
  },
  {
   "cell_type": "markdown",
   "id": "93f4fbc3",
   "metadata": {},
   "source": [
    "Functions are advantageous because of the following reasons:\n",
    "1) Reusability\n",
    "2) Modularity\n",
    "3) Simplicity and readability, \n",
    "4) Reducing space utilization and run time complexity (by calling the function only when needed instead running the intuctions every time.)"
   ]
  },
  {
   "cell_type": "markdown",
   "id": "87e4a224",
   "metadata": {},
   "source": [
    "### 2. When does the code in a function run: when it&#39;s specified or when it's called?"
   ]
  },
  {
   "cell_type": "markdown",
   "id": "3c417e45",
   "metadata": {},
   "source": [
    " The function runs when it is called. Below is an example.    "
   ]
  },
  {
   "cell_type": "code",
   "execution_count": 44,
   "id": "8c45d256",
   "metadata": {},
   "outputs": [
    {
     "name": "stdout",
     "output_type": "stream",
     "text": [
      "function called\n"
     ]
    }
   ],
   "source": [
    "def fun1(): # does not run now\n",
    "\n",
    "    print(\"function called\")\n",
    "\n",
    "fun1()    # now runs"
   ]
  },
  {
   "cell_type": "markdown",
   "id": "0f6fa5ec",
   "metadata": {},
   "source": [
    "### 3. What statement creates a function?"
   ]
  },
  {
   "cell_type": "markdown",
   "id": "3bd89d9c",
   "metadata": {},
   "source": [
    "We use def key word to create a function .\n",
    "The statement that creates the function is of the form:\n",
    "##### def function_name (arguments):"
   ]
  },
  {
   "cell_type": "code",
   "execution_count": null,
   "id": "a4028f7e",
   "metadata": {},
   "outputs": [],
   "source": []
  },
  {
   "cell_type": "markdown",
   "id": "62b39c2d",
   "metadata": {},
   "source": [
    "### 4. What is the difference between a function and a function call?"
   ]
  },
  {
   "cell_type": "markdown",
   "id": "bcd6a2f6",
   "metadata": {},
   "source": [
    "A function is a block of instructions that perform a given task.\n",
    "A function call is where the instructions are executed. The execution goes to the function's definition and executes those statements in that.\n",
    "eg: given below"
   ]
  },
  {
   "cell_type": "code",
   "execution_count": 45,
   "id": "517bfc92",
   "metadata": {},
   "outputs": [
    {
     "name": "stdout",
     "output_type": "stream",
     "text": [
      "Function definition\n"
     ]
    }
   ],
   "source": [
    "def fun2():     #function begins\n",
    "    print('Function definition') #function ends \n",
    "\n",
    "fun2()     #function call , this takes the execution to line 1 and executes till the function end in line 2."
   ]
  },
  {
   "cell_type": "markdown",
   "id": "b08478d7",
   "metadata": {},
   "source": [
    "### 5. How many global scopes are there in a Python program? How many local scopes?"
   ]
  },
  {
   "cell_type": "markdown",
   "id": "92fa6e08",
   "metadata": {},
   "source": [
    "There are one global scope and multiple local scopes in a python program."
   ]
  },
  {
   "cell_type": "markdown",
   "id": "31eb1c7b",
   "metadata": {},
   "source": [
    "### 6. What happens to variables in a local scope when the function call returns?"
   ]
  },
  {
   "cell_type": "markdown",
   "id": "7ab5537e",
   "metadata": {},
   "source": [
    "Those local variables cease to exist. They can't be accessesed again. The memory associated with those variables is freed up."
   ]
  },
  {
   "cell_type": "markdown",
   "id": "41a3086b",
   "metadata": {},
   "source": [
    "###  7. What is the concept of a return value? Is it possible to have a return value in an expression?"
   ]
  },
  {
   "cell_type": "markdown",
   "id": "213c12dd",
   "metadata": {},
   "source": [
    "The return value is the output we recieve when we call the function. We can mention in the function what values to be returned. If we do not specify any return value the we still get a return value None.\n",
    "\n",
    "Yes, We can have a return value of a function in an expression. In the below code the return value is 15 and is used in an expression to be added to 10 making res=25.\n"
   ]
  },
  {
   "cell_type": "code",
   "execution_count": 46,
   "id": "e877dcb6",
   "metadata": {},
   "outputs": [
    {
     "name": "stdout",
     "output_type": "stream",
     "text": [
      "25\n"
     ]
    }
   ],
   "source": [
    "def fun(a,b):\n",
    "    return(a+b)\n",
    "    \n",
    "res=fun(12,3)+10\n",
    "print(res)"
   ]
  },
  {
   "cell_type": "markdown",
   "id": "010c3af3",
   "metadata": {},
   "source": [
    "###  8. If a function does not have a return statement, what is the return value of a call to that function?"
   ]
  },
  {
   "cell_type": "markdown",
   "id": "613a7b85",
   "metadata": {},
   "source": [
    " The default return value is None (eg as given below)\n"
   ]
  },
  {
   "cell_type": "code",
   "execution_count": 47,
   "id": "412db7a9",
   "metadata": {},
   "outputs": [
    {
     "name": "stdout",
     "output_type": "stream",
     "text": [
      "None\n"
     ]
    }
   ],
   "source": [
    "def f1():\n",
    "    pass\n",
    "print(f1())"
   ]
  },
  {
   "cell_type": "markdown",
   "id": "ed4ec214",
   "metadata": {},
   "source": [
    "###  9. How do you make a function variable refer to the global variable?"
   ]
  },
  {
   "cell_type": "markdown",
   "id": "8e3dc4b5",
   "metadata": {},
   "source": [
    "We can use the key word global before the variable name inside the function to refer the global variable.\n"
   ]
  },
  {
   "cell_type": "markdown",
   "id": "f6fbd0a2",
   "metadata": {},
   "source": [
    "###  10. What is the data type of None?"
   ]
  },
  {
   "cell_type": "markdown",
   "id": "44efb15f",
   "metadata": {},
   "source": [
    " The type of None is 'NoneType'"
   ]
  },
  {
   "cell_type": "markdown",
   "id": "e76dee98",
   "metadata": {},
   "source": [
    "### 11. What does the sentence import areallyourpetsnamederic do?"
   ]
  },
  {
   "cell_type": "markdown",
   "id": "235a5a98",
   "metadata": {},
   "source": [
    " It imports a module of the name areallyourpetsnamederic"
   ]
  },
  {
   "cell_type": "markdown",
   "id": "b9a87de5",
   "metadata": {},
   "source": [
    "### 12. If you had a bacon() feature in a spam module, what would you call it after importing spam?"
   ]
  },
  {
   "cell_type": "markdown",
   "id": "4ffc933e",
   "metadata": {},
   "source": [
    "we use the following syntax:\n",
    "\n",
    "    import spam   # To import the module spam\n",
    "    spam.bacon()  # To call the fucntion bacon using the module dot function syntax"
   ]
  },
  {
   "cell_type": "markdown",
   "id": "29f345cd",
   "metadata": {},
   "source": [
    "### 13. What can you do to save a programme from crashing if it encounters an error?"
   ]
  },
  {
   "cell_type": "markdown",
   "id": "2b14ce19",
   "metadata": {},
   "source": [
    " We can use the exception handling features in case of errors. We can specify the instructions that are to be executed when a program fails with a particular error or in case of any error."
   ]
  },
  {
   "cell_type": "markdown",
   "id": "df9bda91",
   "metadata": {},
   "source": [
    "### 14. What is the purpose of the try clause? What is the purpose of the except clause?"
   ]
  },
  {
   "cell_type": "markdown",
   "id": "de2d6fa6",
   "metadata": {},
   "source": [
    "Try clause is used to execute the statements that we want to run as part of the program.\n",
    "Except clause is used to catch an exception and execute the given statements (by the programmer) when the program encounters any (or particular) exception."
   ]
  }
 ],
 "metadata": {
  "kernelspec": {
   "display_name": "Python 3 (ipykernel)",
   "language": "python",
   "name": "python3"
  },
  "language_info": {
   "codemirror_mode": {
    "name": "ipython",
    "version": 3
   },
   "file_extension": ".py",
   "mimetype": "text/x-python",
   "name": "python",
   "nbconvert_exporter": "python",
   "pygments_lexer": "ipython3",
   "version": "3.11.5"
  }
 },
 "nbformat": 4,
 "nbformat_minor": 5
}
