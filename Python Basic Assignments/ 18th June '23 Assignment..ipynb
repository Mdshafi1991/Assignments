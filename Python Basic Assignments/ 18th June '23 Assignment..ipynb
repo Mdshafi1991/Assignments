{
 "cells": [
  {
   "cell_type": "markdown",
   "id": "80e0aa2e",
   "metadata": {},
   "source": [
    "#### 1. What is the role of the 'else' block in a try-except statement? Provide an example scenario where it would be useful."
   ]
  },
  {
   "cell_type": "markdown",
   "id": "4dee122f",
   "metadata": {},
   "source": [
    "The else block is an optional code block that gets executed only when there is no exception. \n",
    "\n",
    "In the below example:\n",
    "    \n",
    "    The function prints the result only if there is no ZeroDivisonError.\n",
    "    The else block thus helps us to avoid writing the code that would not raise any exceptions in try block and thus making the try block as smaller and simpler as possible."
   ]
  },
  {
   "cell_type": "code",
   "execution_count": 3,
   "id": "efc7884d",
   "metadata": {},
   "outputs": [
    {
     "name": "stdout",
     "output_type": "stream",
     "text": [
      "Y has to be non Zero!\n",
      "None\n",
      "Here is the result: 1.1111111111111112\n",
      "None\n"
     ]
    }
   ],
   "source": [
    "def else_eg(x,y):\n",
    "    try:\n",
    "        res = x/y\n",
    "    except ZeroDivisionError:\n",
    "        print(\"Y has to be non Zero!\")\n",
    "    \n",
    "    else:\n",
    "        print (\"Here is the result:\", res)\n",
    "\n",
    "print(else_eg(10,0))\n",
    "\n",
    "print(else_eg(10,9))"
   ]
  },
  {
   "cell_type": "markdown",
   "id": "eaaf3350",
   "metadata": {},
   "source": [
    "#### 2. Can a try-except block be nested inside another try-except block? Explain with an example."
   ]
  },
  {
   "cell_type": "markdown",
   "id": "3ed87fd3",
   "metadata": {},
   "source": [
    "Yes. try except block can be nested.\n",
    "example:\n",
    "    "
   ]
  },
  {
   "cell_type": "code",
   "execution_count": 6,
   "id": "b188609c",
   "metadata": {},
   "outputs": [
    {
     "name": "stdout",
     "output_type": "stream",
     "text": [
      "Enter a number:0\n",
      "The number is zero. The default output is returned now as the same as given number 1000\n"
     ]
    }
   ],
   "source": [
    "try:\n",
    "    x = int(input(\"Enter a number:\"))\n",
    "    try:\n",
    "        print(1000/x)\n",
    "    \n",
    "    except ZeroDivisionError:\n",
    "        print(\"The number is zero. The default output is returned now as the same as given number\",1000)\n",
    "        \n",
    "\n",
    "except ValueError:\n",
    "    print(\"Please run again and enter a valid number!\")\n",
    "    \n"
   ]
  },
  {
   "cell_type": "markdown",
   "id": "10626670",
   "metadata": {},
   "source": [
    "#### 3. How can you create a custom exception class in Python? Provide an example that demonstrates its usage."
   ]
  },
  {
   "cell_type": "markdown",
   "id": "cc1a293c",
   "metadata": {},
   "source": [
    "We can create a custome exception using the parent class Exception.\n",
    "\n",
    "Here we create an exception MovieAgeException that is raised when the age is less than 18."
   ]
  },
  {
   "cell_type": "code",
   "execution_count": 9,
   "id": "85d9c15c",
   "metadata": {},
   "outputs": [
    {
     "name": "stdout",
     "output_type": "stream",
     "text": [
      "Please enter your age:1\n",
      "You need to be atleast 18 years of age to watch this movie!\n"
     ]
    }
   ],
   "source": [
    "class MovieAgeException(Exception):\n",
    "    #(\"Have to be older than 18 to watch the movie!\")\n",
    "    pass\n",
    "\n",
    "try:\n",
    "    age = int(input(\"Please enter your age:\"))\n",
    "    if age < 18:\n",
    "        raise MovieAgeException\n",
    "except MovieAgeException:\n",
    "    print(\"You need to be atleast 18 years of age to watch this movie!\")\n",
    "\n"
   ]
  },
  {
   "cell_type": "markdown",
   "id": "26a568e3",
   "metadata": {},
   "source": [
    "#### 4. What are some common exceptions that are built-in to Python?"
   ]
  },
  {
   "cell_type": "markdown",
   "id": "e9ef74a4",
   "metadata": {},
   "source": [
    "Below are some of the exceptions built in python.\n",
    "\n",
    "    ValueError : \n",
    "    When there is an incorrect value in a specified data type, this exception is raised.\n",
    "    ZeroDivisionError: \n",
    "    When the second operator in a division is zero, an error is raised.\n",
    "    TypeError: \n",
    "    When a function or operation is applied to an object of the wrong type, this exception is raised.\n",
    "    SyntaxError: \n",
    "    When a syntax problem occurs, the parser raises this exception.\n",
    "    IndexError: \n",
    "    When the index of a sequence is out of range, this value is raised.\n",
    "    KeyError: \n",
    "    When a key is not found in a dictionary, this error is raised."
   ]
  },
  {
   "cell_type": "markdown",
   "id": "ec06c045",
   "metadata": {},
   "source": [
    "#### 5. What is logging in Python, and why is it important in software development?"
   ]
  },
  {
   "cell_type": "markdown",
   "id": "13997ec9",
   "metadata": {},
   "source": [
    "Python logging is a module that allows you to track events that occur while your program is running. \n",
    "We can use logging to record information about errors, warnings, and other events that occur during program execution. \n",
    "\n",
    "Importance of logging in software development:\n",
    "    \n",
    "    Logging keeps track of what happens while a program is running, including any errors, warnings, or notable events that occur.\n",
    "    This data can be used to troubleshoot issues and improve the program's effectiveness and efficiency. \n",
    "    We all know that every action of a program is a reaction to the code that was written.\n"
   ]
  },
  {
   "cell_type": "markdown",
   "id": "afaa3db7",
   "metadata": {},
   "source": [
    "#### 6. Explain the purpose of log levels in Python logging and provide examples of when each log level would be appropriate."
   ]
  },
  {
   "cell_type": "markdown",
   "id": "d0fa2719",
   "metadata": {},
   "source": [
    "Log levels:\n",
    "\n",
    "    The log level corresponds to the “importance” a log is given: an “error” log should be more urgent then than the “warn” log, whereas a “debug” log should be useful only when debugging the application.\n",
    "    \n",
    "    There are six levels for logging in Python; each level is associated with an integer that indicates the log severity: NOTSET=0, DEBUG=10, INFO=20, WARN=30, ERROR=40, and CRITICAL=50.\n",
    " \n",
    "\n",
    "\n",
    "    DEBUG: Debug logs are used for detailed information that is useful for debugging and diagnosing issues during development or testing phases. \n",
    "    eg: DEBUG: User authentication successful/failed.\n",
    "    \n",
    "    INFO: Info logs provide general information about the application's operation. They are typically used to track the flow of the application and important milestones. \n",
    "    eg: INFO: Server started on port 8080\n",
    "\n",
    "    WARNING: Warning logs indicate potential issues that are not critical but may require attention. They are used to alert developers or system administrators about unexpected behavior that could lead to problems if ignored. \n",
    "    eg: WARNING: Disk space is running low (85% full)\n",
    "    \n",
    "    ERROR: Error logs indicate that a specific operation or function has failed. They are used to capture unexpected errors that require immediate attention but do not necessarily crash the application.\n",
    "    eg: ERROR: Database connection failed: Timeout while connecting to the database server\n",
    "\n",
    "    CRITICAL: Critical logs indicate severe errors that require immediate attention as they may lead to application failure or data loss. They are used to log fatal errors that prevent the application from functioning correctly. \n",
    "    eg: CRITICAL: Out of memory error. Application cannot continue running.\n",
    "\n",
    "\n",
    "    "
   ]
  },
  {
   "cell_type": "markdown",
   "id": "e11f24b4",
   "metadata": {},
   "source": [
    "#### 7. What are log formatters in Python logging, and how can you customise the log message format using formatters?"
   ]
  },
  {
   "cell_type": "markdown",
   "id": "34a471f5",
   "metadata": {},
   "source": [
    "In Python's logging module, log formatters are used to specify the layout and structure of log messages. \n",
    "\n",
    "\n",
    "A log formatter in Python typically consists of a string containing placeholders representing attributes of the log record, such as the log level, timestamp, module name, and message content. These placeholders are replaced with actual values from the log record when the log message is formatted.\n",
    "\n",
    "    we can use the function logging.basicConfig to set the format as below.\n",
    "    \n",
    "    logging.basicConfig(level = logging.INFO, filename = './log.log', filemode = 'w',\n",
    "                    format='%(asctime)s - %(levelname)s - %(message)s') \n",
    "                    \n",
    "    or we can also use the f = logging.formatter(\"FORMAT STRING\") to set the format and pass it as an \n",
    "    argument to the handler as :\n",
    "            handler.setFormatter(f)"
   ]
  },
  {
   "cell_type": "markdown",
   "id": "1d73e4cf",
   "metadata": {},
   "source": [
    "#### 8. How can you set up logging to capture log messages from multiple modules or classes in a Python application?"
   ]
  },
  {
   "cell_type": "markdown",
   "id": "e4a3c07c",
   "metadata": {},
   "source": [
    "To set up logging to capture log messages from multiple modules or classes in a Python application, you can follow these steps:\n",
    "\n",
    "1) Import the logging module\n",
    "\n",
    "2) Configure the logging settings: You need to configure the logging settings such as log level, format, and handlers. You can do this using logging.basicConfig() or by creating a custom logging configuration.\n",
    "\n",
    "3) Add logging calls in your modules or classes: \n",
    "Create separate loggers for different modules. Insert logging calls in your modules or classes to log messages at various log levels.\n",
    "\n",
    "Here's a basic example demonstrating how to set up logging to capture log messages from multiple modules or classes"
   ]
  },
  {
   "cell_type": "code",
   "execution_count": 1,
   "id": "cb3bc0b6",
   "metadata": {},
   "outputs": [
    {
     "name": "stderr",
     "output_type": "stream",
     "text": [
      "2024-02-17 23:44:14,867 - module1 - ERROR - This is an error message from module1\n",
      "2024-02-17 23:44:14,868 - module1 - CRITICAL - This is a critical message from module1\n",
      "2024-02-17 23:44:14,868 - module2 - ERROR - This is an error message from module2\n",
      "2024-02-17 23:44:14,868 - module2 - CRITICAL - This is a critical message from module2\n"
     ]
    }
   ],
   "source": [
    "# Import the logging module\n",
    "import logging\n",
    "\n",
    "# Configure the logging settings\n",
    "logging.basicConfig(level=logging.DEBUG, format='%(asctime)s - %(name)s - %(levelname)s - %(message)s')\n",
    "\n",
    "# Create loggers for specific modules or classes\n",
    "logger_module1 = logging.getLogger('module1')\n",
    "logger_module2 = logging.getLogger('module2')\n",
    "\n",
    "# Example function in module1\n",
    "def function_in_module1():\n",
    "    \n",
    "    logger_module1.error('This is an error message from module1')\n",
    "    logger_module1.critical('This is a critical message from module1')\n",
    "\n",
    "# Example function in module2\n",
    "def function_in_module2():\n",
    "    \n",
    "    logger_module2.error('This is an error message from module2')\n",
    "    logger_module2.critical('This is a critical message from module2')\n",
    "\n",
    "if __name__ == \"__main__\":\n",
    "    # Call functions to trigger logging messages\n",
    "    function_in_module1()\n",
    "    function_in_module2()\n"
   ]
  },
  {
   "cell_type": "markdown",
   "id": "0f6db663",
   "metadata": {},
   "source": [
    "#### 9. What is the difference between the logging and print statements in Python? When should you use logging over print statements in a real-world application?"
   ]
  },
  {
   "cell_type": "markdown",
   "id": "49a66cf4",
   "metadata": {},
   "source": [
    "print statement is usually used in development stage of applications where as logging is to keep track of the application running in the production environment.\n",
    "\n",
    "Where print is simple and stright forwarded, logging is a more sophisticated and structured way to track the program executions.\n",
    "\n",
    "In real world applications:\n",
    "We can use print statements to display useful information to the user, such as current values of the variables, state of the program etc.\n",
    "Where as we use logging for the developer or the person responsible for maintaining the program flow. and user need not know about this. \n",
    "\n",
    "Print statements can be used for the current sessions. where logging is used to store historical execution data/logs.\n",
    "\n"
   ]
  },
  {
   "cell_type": "markdown",
   "id": "3c95b521",
   "metadata": {},
   "source": [
    "#### 10. Write a Python program that logs a message to a file named \"app.log\" with the\n",
    "    following requirements:\n",
    "    ● The log message should be \"Hello, World!\"\n",
    "    ● The log level should be set to \"INFO.\"\n",
    "    ● The log file should append new log entries without overwriting previous ones."
   ]
  },
  {
   "cell_type": "code",
   "execution_count": 4,
   "id": "b2b0faa0",
   "metadata": {},
   "outputs": [
    {
     "name": "stderr",
     "output_type": "stream",
     "text": [
      "2024-02-18 00:03:56,802 - root - INFO - Hello, World!\n"
     ]
    }
   ],
   "source": [
    "import logging\n",
    "\n",
    "logging.basicConfig(level = logging.INFO, format ='%(asctime)s - %(name)s - %(message)s', filename = 'app.log',\n",
    "                   filemode = 'a')\n",
    "logging.info(\"Hello, World!\")\n"
   ]
  },
  {
   "cell_type": "markdown",
   "id": "8fbeec90",
   "metadata": {},
   "source": [
    "11. Create a Python program that logs an error message to the console and a file name \"errors.log\" if an exception occurs during the program's execution. The error message should include the exception type and a timestamp."
   ]
  },
  {
   "cell_type": "code",
   "execution_count": 8,
   "id": "d351bb32",
   "metadata": {},
   "outputs": [
    {
     "name": "stderr",
     "output_type": "stream",
     "text": [
      "2024-02-18 00:24:03,576 - root - ERROR - Exception occured of type ZeroDivisionError \n",
      "2024-02-18 00:24:03,579 - root - ERROR - Exception occured of type ZeroDivisionError \n"
     ]
    }
   ],
   "source": [
    "import logging\n",
    "\n",
    "logging.basicConfig(level = logging.ERROR,format = '%(asctime)s - %(name)s - %(message)s' )\n",
    "\n",
    "def log_to_file(err_msg):\n",
    "    #create a file handler\n",
    "    file_handler = logging.FileHandler(\"errors.log\")\n",
    "    file_handler.setLevel(logging.ERROR)\n",
    "    \n",
    "    #create a formatter\n",
    "    formatter = logging.Formatter('%(asctime)s - %(name)s - %(message)s')\n",
    "    \n",
    "    #set the file format in the handler\n",
    "    file_handler.setFormatter(formatter)\n",
    "    \n",
    "    \n",
    "    # add handler to the logger\n",
    "    logger = logging.getLogger(\"\")\n",
    "    logger.addHandler(file_handler)\n",
    "    \n",
    "    logging.error(err_msg)\n",
    "    \n",
    "    file_handler.close()\n",
    "\n",
    "def main():\n",
    "    try:\n",
    "        res = 1/0\n",
    "    except Exception as e:\n",
    "        err_msg = f\"Exception occured of type {type(e).__name__} \"\n",
    "        logging.error(err_msg)  # to the stdout\n",
    "        log_to_file(err_msg)  # to stdout and file \n",
    "        \n",
    "if __name__ == '__main__':\n",
    "    main()"
   ]
  },
  {
   "cell_type": "code",
   "execution_count": null,
   "id": "d92bf590",
   "metadata": {},
   "outputs": [],
   "source": []
  }
 ],
 "metadata": {
  "kernelspec": {
   "display_name": "Python 3 (ipykernel)",
   "language": "python",
   "name": "python3"
  },
  "language_info": {
   "codemirror_mode": {
    "name": "ipython",
    "version": 3
   },
   "file_extension": ".py",
   "mimetype": "text/x-python",
   "name": "python",
   "nbconvert_exporter": "python",
   "pygments_lexer": "ipython3",
   "version": "3.11.5"
  }
 },
 "nbformat": 4,
 "nbformat_minor": 5
}
