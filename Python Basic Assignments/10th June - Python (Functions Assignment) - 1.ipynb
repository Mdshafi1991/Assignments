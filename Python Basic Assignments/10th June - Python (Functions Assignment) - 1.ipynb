{
 "cells": [
  {
   "cell_type": "markdown",
   "id": "60d92582",
   "metadata": {},
   "source": [
    "#### 1. In Python, what is the difference between a built-in function and a user-defined function? Provide an example of each."
   ]
  },
  {
   "cell_type": "markdown",
   "id": "75af6ef5",
   "metadata": {},
   "source": [
    "    Built-in functions:\n",
    "        Are functions that are part of the Python standard library.\n",
    "        They are available for use without the need for explicit definition.\n",
    "        eg: print(), max(), min()\n",
    "    \n",
    "    user-defined function:\n",
    "        User-defined functions are functions created by users to perform specific tasks. \n",
    "        They are defined using the def keyword.\n",
    "        eg: def greet():\n",
    "                print('Hello')\n",
    "\n",
    "        Here greet() is the user defined function."
   ]
  },
  {
   "cell_type": "markdown",
   "id": "778ef420",
   "metadata": {},
   "source": [
    "#### 2. How can you pass arguments to a function in Python? Explain the difference between positional arguments and keyword arguments."
   ]
  },
  {
   "cell_type": "markdown",
   "id": "b181ddf9",
   "metadata": {},
   "source": [
    "    We can pass arguments in function as positional arguments and Keyword arguments.\n",
    "\n",
    "    Positional Arguments:\n",
    "        Here the arguments are used in the function based on the sequence that we have given.\n",
    "        eg: def say_hello(name, age):\n",
    "                print(f'Hello {name}! Your age is {age}')\n",
    "        \n",
    "            Here the first argument is considered as name and second argument as age.\n",
    "            say_hello('John',30)\n",
    "            Here the argument 'john' is for name and 30 is for age.\n",
    "    \n",
    "    keyword arguments:\n",
    "        In this the arguments are given along with the names to those arguments.\n",
    "        we can call the above function as below:\n",
    "            \n",
    "            say_hello(age=32,name='ron')\n",
    "            \n",
    "            Though there is incorrect order of the parameters ,as we have explicitly mentioned the \n",
    "            arguments name, They will be associated as expected.\n",
    "         \n",
    "    The difference is that in first case, during the function call we must stick to the order for \n",
    "    the arguments exactly as given during function definition, where as it is not required in case of \n",
    "    Keyword arguments."
   ]
  },
  {
   "cell_type": "markdown",
   "id": "db87af25",
   "metadata": {},
   "source": [
    "#### 3. What is the purpose of the return statement in a function? Can a function have multiple return statements? Explain with an example."
   ]
  },
  {
   "cell_type": "markdown",
   "id": "19c1a42e",
   "metadata": {},
   "source": [
    "    The purpose of the return statement is to specify what should be the result that we shall obtain from\n",
    "    the function. It also signifies the end of the fucntion definition.\n",
    "\n",
    "    A function can have multiple return statements but only one of those statements is executed and \n",
    "    the execution of the function ends.\n",
    "\n",
    "    eg:\n",
    "        def check_even(n):\n",
    "            if n%2 == 0:\n",
    "                return 'even'\n",
    "            else:\n",
    "                return 'odd'\n",
    "        \n",
    "    res = check_even(9)\n",
    "    Here the value of the res is 'odd' which is returned by the function check_even.\n",
    "    Also though the function has two return statements only one of them is executed and the function exits."
   ]
  },
  {
   "cell_type": "code",
   "execution_count": 7,
   "id": "8cad75ac",
   "metadata": {},
   "outputs": [
    {
     "name": "stdout",
     "output_type": "stream",
     "text": [
      "odd\n",
      "even\n"
     ]
    }
   ],
   "source": [
    "def check_even(n):\n",
    "    if n%2 == 0:\n",
    "        return 'even'   \n",
    "    else:\n",
    "        return 'odd'\n",
    "\n",
    "res_1 = check_even(9)\n",
    "print(res_1) # second returen is executed \n",
    "res_2 = check_even(10)\n",
    "print(res_2) # First return statement is executed.\n"
   ]
  },
  {
   "cell_type": "markdown",
   "id": "64f52db9",
   "metadata": {},
   "source": [
    "##### 4. What are lambda functions in Python? How are they different from regular functions? Provide an example where a lambda function can be useful."
   ]
  },
  {
   "cell_type": "markdown",
   "id": "257e9661",
   "metadata": {},
   "source": [
    "    They are defined using the lambda key word. They are concise way to define a small anonymous function\n",
    "    having a single expression to return .\n",
    "\n",
    "    eg:\n",
    "        (lambda x, y: x + y) (8,7)  returns sum of 8 and 7 .\n",
    "\n",
    "    Thay are different from the normal fucntion in the aspects:\n",
    "        1) They don't have to be given a name.\n",
    "        2) They have only one expression where as a normal fucntion can have more than one expressions.\n",
    "        3) Usually used for simple operations.\n"
   ]
  },
  {
   "cell_type": "code",
   "execution_count": 10,
   "id": "50c6fb3c",
   "metadata": {},
   "outputs": [
    {
     "data": {
      "text/plain": [
       "15"
      ]
     },
     "execution_count": 10,
     "metadata": {},
     "output_type": "execute_result"
    }
   ],
   "source": [
    "(lambda x, y: x + y) (8,7)    #No name is given and have only one expression"
   ]
  },
  {
   "cell_type": "markdown",
   "id": "bdd14955",
   "metadata": {},
   "source": [
    "##### 5. How does the concept of \"scope\" apply to functions in Python? Explain the difference between local scope and global scope."
   ]
  },
  {
   "cell_type": "markdown",
   "id": "a5889e76",
   "metadata": {},
   "source": [
    "##    The functions can use the variables from two scopes. Local and Global.\n",
    "\n",
    "    Local: Those variables that are defined inside the fucntion are of local scope.\n",
    "    Global: Those variable that are defined outside the any function are of global scope.\n",
    "\n",
    "    Differences:\n",
    "    1) Local variables are accessible only inside the fucntion where as global variables can be accessed \n",
    "    from any where in the program.\n",
    "    2) Local variables are destroyed once the function is finished where as the variables of global scope\n",
    "    stays alive inside any function and also outside any function. \n"
   ]
  },
  {
   "cell_type": "markdown",
   "id": "634384ca",
   "metadata": {},
   "source": [
    "##### 6. How can you use the \"return\" statement in a Python function to return multiple values?"
   ]
  },
  {
   "cell_type": "code",
   "execution_count": null,
   "id": "e0f5ae35",
   "metadata": {},
   "outputs": [],
   "source": [
    "We can use specify the values to be returned separated by comma after the keyword return.\n",
    "It returns a tuple containing all values and those values can be accesse using sequential indexing.\n",
    "Below is an example."
   ]
  },
  {
   "cell_type": "code",
   "execution_count": 18,
   "id": "c8c50467",
   "metadata": {},
   "outputs": [
    {
     "name": "stdout",
     "output_type": "stream",
     "text": [
      "(1, 3, 'hello')\n",
      "hello\n"
     ]
    }
   ],
   "source": [
    "def hello():\n",
    "    return 1,3,'hello'\n",
    "\n",
    "print(hello())\n",
    "print(hello()[2])"
   ]
  },
  {
   "cell_type": "markdown",
   "id": "d25ea298",
   "metadata": {},
   "source": [
    "##### 7. What is the difference between the \"pass by value\" and \"pass by reference\" concepts when it comes to function arguments in Python?"
   ]
  },
  {
   "cell_type": "markdown",
   "id": "9d92b38c",
   "metadata": {},
   "source": [
    "    They are how we pass the function parameters.\n",
    "    Differences:\n",
    "        1) In pass by value, we directly pass the values instead of their references where as in \n",
    "        pass by reference we do not pass the values directly , instead we pass an object that has \n",
    "        references to the values.\n",
    "        2) In pass by value, the value of the variable still remains the same outside the function, but in \n",
    "        pass by reference, the values if modified inside of a function stays modified even outside of \n",
    "        the function too."
   ]
  },
  {
   "cell_type": "markdown",
   "id": "3ec7a328",
   "metadata": {},
   "source": [
    "#####    8. Create a function that can intake integer or decimal value and do following operations:\n",
    "        a. Logarithmic function (log x)\n",
    "        b. Exponential function (exp(x))\n",
    "        c. Power function with base 2 (2**x)\n",
    "        d. Square root"
   ]
  },
  {
   "cell_type": "code",
   "execution_count": 37,
   "id": "a0882c01",
   "metadata": {},
   "outputs": [
    {
     "name": "stdout",
     "output_type": "stream",
     "text": [
      "Log result is: 2.995732273553991\n",
      "Exponential function result is: 485165195.4097903\n",
      "2 to the power of 20 is: 1048576.0\n",
      "root of x is: 4.47213595499958\n"
     ]
    }
   ],
   "source": [
    "def ops(x : (int,float)):                #Can take int and float types.\n",
    "    import math\n",
    "    log_value=math.log(x)\n",
    "    exp_value=math.exp(x)\n",
    "    power_value=math.pow(2,x)\n",
    "    root_value=math.sqrt(x)\n",
    "    print(f'Log result is: {log_value}')\n",
    "    print(f'Exponential function result is: {exp_value}')\n",
    "    print(f'2 to the power of {x} is: {power_value}')\n",
    "    print(f'root of x is: {root_value}')\n",
    "\n",
    "ops(20)"
   ]
  },
  {
   "cell_type": "markdown",
   "id": "fd589b79",
   "metadata": {},
   "source": [
    "##### 9. Create a function that takes a full name as an argument and returns first name and last name."
   ]
  },
  {
   "cell_type": "code",
   "execution_count": 63,
   "id": "f2bc138a",
   "metadata": {},
   "outputs": [
    {
     "name": "stdout",
     "output_type": "stream",
     "text": [
      "First name:  francis\n",
      "Last name:  deco\n"
     ]
    }
   ],
   "source": [
    "def split_names(full_name :str):\n",
    "    return full_name.split()[0],full_name.split()[1]   #splitting the full name and returning the first name and last name\n",
    "\n",
    "print('First name: ',split_names('francis deco')[0])\n",
    "print('Last name: ',split_names('francis deco')[1])\n",
    "\n",
    "      "
   ]
  },
  {
   "cell_type": "code",
   "execution_count": null,
   "id": "eecb2862",
   "metadata": {},
   "outputs": [],
   "source": []
  }
 ],
 "metadata": {
  "kernelspec": {
   "display_name": "Python 3 (ipykernel)",
   "language": "python",
   "name": "python3"
  },
  "language_info": {
   "codemirror_mode": {
    "name": "ipython",
    "version": 3
   },
   "file_extension": ".py",
   "mimetype": "text/x-python",
   "name": "python",
   "nbconvert_exporter": "python",
   "pygments_lexer": "ipython3",
   "version": "3.11.5"
  }
 },
 "nbformat": 4,
 "nbformat_minor": 5
}
