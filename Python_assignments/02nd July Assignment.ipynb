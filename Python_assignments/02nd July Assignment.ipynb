{
 "cells": [
  {
   "cell_type": "markdown",
   "id": "bc6dba02",
   "metadata": {},
   "source": [
    "# Q1. \n",
    "Explain what inheritance is in object-oriented programming and why it is used.\n",
    "\n",
    "\n",
    "\n"
   ]
  },
  {
   "cell_type": "markdown",
   "id": "e694b23b",
   "metadata": {},
   "source": [
    "Inheritance is a concept that allows one class to reuse the features of another class.\n",
    "This is acheieved by one class (child class ) extending from another class (Parent class) that has already been created.\n",
    "\n",
    "It is used for the reasons:\n",
    "    \n",
    "    1) Reuse the code that is already written in parent classes.\n",
    "    \n",
    "    2) TO maintain hierarchy of the classes:\n",
    "        Eg: A class Travel can be used to create two child classes Travel_by_bus and Travel_by_Plane \n",
    "            Here Travel's methods such as calculate_journey_time(), calculate_cost()  and the attributes such as Destination, Source can be inherited into the  to keep the child classes separate as per their relavance.\n",
    "            \n",
    "    3) Readability by only necessary methods and attribites the parent as well as child classes.\n",
    "    \n",
    "    4) And to maintain relation between the similar classes.\n",
    "    \n",
    "    5) To achieve polymorphism of the methods.\n",
    "    "
   ]
  },
  {
   "cell_type": "markdown",
   "id": "d69c09dd",
   "metadata": {},
   "source": [
    "# Q2. \n",
    "Discuss the concept of single inheritance and multiple inheritance, highlighting their\n",
    "differences and advantages."
   ]
  },
  {
   "cell_type": "markdown",
   "id": "dce6b82d",
   "metadata": {},
   "source": [
    "\n",
    "Single Inheritance:\n",
    "\n",
    "    In single inheritance, a class can inherit from only one superclass. \n",
    " Multiple Inheritance:\n",
    "\n",
    "    In multiple inheritance, a class can inherit from more than one superclass. \n",
    "    This allows a class to have multiple parent classes, incorporating their attributes and behaviors. \n",
    "    \n",
    "    \n",
    " differences bewtween them :\n",
    " \n",
    "     1. In single inheritance we have only one super class Where as in multiple inheritance there are \n",
    "     more than one super classes.\n",
    "   \n",
    "     2. A clear hierarchy can be seen in single Inheritance where in multiple the hiersrchy is difficult \n",
    "     to be established.\n",
    " \n",
    "     3. In single inheritance we do not see the diamond problem , where as multiple inheritance may \n",
    "     result into that.\n",
    " \n",
    " \n",
    " \n",
    " "
   ]
  },
  {
   "cell_type": "markdown",
   "id": "b76ca61d",
   "metadata": {},
   "source": [
    "# Q3. \n",
    "Explain the terms \"base class\" and \"derived class\" in the context of inheritance."
   ]
  },
  {
   "cell_type": "markdown",
   "id": "0163e074",
   "metadata": {},
   "source": [
    "    Base class:\n",
    "\n",
    "    The base class is the class from which provides the basis oe blue print for the next classes. \n",
    "    \n",
    "    One base class can be used to create multiple derived classes.\n",
    "    \n",
    "    Derived class:\n",
    "    \n",
    "    This is the class that uses the base class's methods and attributes that can be expanded further.\n",
    "    \n",
    "    One derived class can act as a base class for the next class in hierarchy. However one derived class\n",
    "    can have multiple base classes in python.\n",
    "    \n",
    "    Example can be seen in the below code:\n",
    "    -Animal is the base class \n",
    "    -Dog and Fox are the derived classes that can reuse the method sound() and the attribute legs.\n"
   ]
  },
  {
   "cell_type": "code",
   "execution_count": 8,
   "id": "9746cf11",
   "metadata": {},
   "outputs": [
    {
     "name": "stdout",
     "output_type": "stream",
     "text": [
      "Fox has  4  legs.\n",
      "Sound of fox is Howl.\n",
      "Dog has  4  legs.\n",
      "Sound of dog is Bark.\n"
     ]
    }
   ],
   "source": [
    "class Animal:\n",
    "    def __init__(self, legs):\n",
    "        self.legs = legs\n",
    "        \n",
    "    def sound(self):\n",
    "        return \"Generic sound\"\n",
    "        \n",
    "\n",
    "class Dog(Animal):\n",
    "    def sound(self):\n",
    "        return \"Bark.\"\n",
    "    \n",
    "\n",
    "class Fox(Animal):\n",
    "    def sound(self):\n",
    "        return \"Howl.\"\n",
    "    \n",
    "f1 = Fox(4)\n",
    "print(\"Fox has \",f1.legs, \" legs.\")\n",
    "print(\"Sound of fox is\",f1.sound())\n",
    "\n",
    "d1= Dog(4)\n",
    "print(\"Dog has \",d1.legs, \" legs.\")\n",
    "print(\"Sound of dog is\",d1.sound())"
   ]
  },
  {
   "cell_type": "markdown",
   "id": "ecfebfaa",
   "metadata": {},
   "source": [
    "# Q4. \n",
    "What is the significance of the \"protected\" access modifier in inheritance? How does\n",
    "it differ from \"private\" and \"public\" modifiers?"
   ]
  },
  {
   "cell_type": "markdown",
   "id": "f63e4e4a",
   "metadata": {},
   "source": [
    "    The access modifiers are useful in managing the level of visibility of attributes and methods.\n",
    "    protected:\n",
    "    These are defined by starting with single underscore(_) \n",
    "        \n",
    "       eg:\n",
    "        _var1=90\n",
    "        \n",
    "    These can only be accessed in the child/derived classes and nowhere else.\n",
    "\n",
    "    Differece between protected and private:\n",
    "        private members can only be accessed in the same class that it is part of and nowhere else where as\n",
    "        protected members can also be accessed in the derived classes.\n",
    "\n",
    "    Differece between protected and public:\n",
    "        public members can be accessed from anywhere where as\n",
    "        protected members can not be accessed anywhere except in the derived classes and the same class.\n",
    "    "
   ]
  },
  {
   "cell_type": "markdown",
   "id": "d715d820",
   "metadata": {},
   "source": [
    "# Q5. \n",
    "What is the purpose of the \"super\" keyword in inheritance? Provide an example."
   ]
  },
  {
   "cell_type": "markdown",
   "id": "69b61586",
   "metadata": {},
   "source": [
    "    The inheritance is implmented using the concept of base/parent class and derived/child class.\n",
    "    Here in the child classes whenever we need to refer to any members of the parent class, \n",
    "    we can do so by using the keyword super. Thus the super key word refers to the parent class. \n",
    "    \n",
    "    1) It can be used to call the constructor of the parent classes.\n",
    "    2) It can also be used to call the other methods from the parent.\n",
    "    3) In case of the function overriding in the child class, we can still use the parent's fucnction by calling\n",
    "    with super keyword.\n",
    "    \n",
    "     Example is as given below:\n",
    "     "
   ]
  },
  {
   "cell_type": "code",
   "execution_count": 55,
   "id": "50561cf8",
   "metadata": {},
   "outputs": [
    {
     "name": "stdout",
     "output_type": "stream",
     "text": [
      "I am in class C.\n",
      "Now also in class_D\n",
      "I am in method1 of class C.\n",
      "Now method2 of class_D\n"
     ]
    }
   ],
   "source": [
    "class C:\n",
    "    name = 'class_C'\n",
    "    def __init__(self):\n",
    "        print(\"I am in class C.\")\n",
    "\n",
    "    def method1(self):\n",
    "        print(\"I am in method1 of class C.\")\n",
    "    \n",
    "class D(C):\n",
    "    \n",
    "    def __init__(self):\n",
    "        #calling super constructor\n",
    "        super().__init__()\n",
    "        print(\"Now also in class_D\")\n",
    "    \n",
    "    def method2(self):\n",
    "        super().method1()\n",
    "        print(\"Now method2 of class_D\")\n",
    "        \n",
    "        \n",
    "    \n",
    "d=D()   # Here the parent class's constructor is called using super keyword\n",
    "d.method2()"
   ]
  },
  {
   "cell_type": "markdown",
   "id": "bcec61a5",
   "metadata": {},
   "source": [
    "# Q6. \n",
    "Create a base class called \"Vehicle\" with attributes like \"make\", \"model\", and \"year\".\n",
    "\n",
    "Then, create a derived class called \"Car\" that inherits from \"Vehicle\" and adds an\n",
    "attribute called \"fuel_type\". Implement appropriate methods in both classes."
   ]
  },
  {
   "cell_type": "code",
   "execution_count": 60,
   "id": "649e6efc",
   "metadata": {},
   "outputs": [],
   "source": [
    "class Vehicle:\n",
    "    def __init__(self,make,model,year):\n",
    "        self.make=make\n",
    "        self.model=model\n",
    "        self.year=year\n",
    "\n",
    "class Car(Vehicle):\n",
    "    def __init__(self,make,model,year,fuel_type):\n",
    "        super().__init__(make,model,year)\n",
    "        self.fuel_type=fuel_type\n",
    "        \n",
    "#In the init of child use the parent init and DO NOT include self when using super(), but when using \n",
    "#parent name use self\n",
    "        "
   ]
  },
  {
   "cell_type": "code",
   "execution_count": 37,
   "id": "f6a6c51c",
   "metadata": {},
   "outputs": [
    {
     "name": "stdout",
     "output_type": "stream",
     "text": [
      "Ford   Mustang   2017\n",
      "Maruthi   Alto 800   2017   Gas\n"
     ]
    }
   ],
   "source": [
    "v=Vehicle('Ford','Mustang',2017)\n",
    "\n",
    "print(v.make,\" \",v.model,\" \",v.year)\n",
    "\n",
    "c=Car('Maruthi','Alto 800',2017,\"Gas\")\n",
    "\n",
    "print(c.make,\" \",c.model,\" \",c.year,\" \",c.fuel_type)"
   ]
  },
  {
   "cell_type": "code",
   "execution_count": null,
   "id": "4fedb63c",
   "metadata": {},
   "outputs": [],
   "source": []
  },
  {
   "cell_type": "markdown",
   "id": "3015de60",
   "metadata": {},
   "source": [
    "# Q7.\n",
    "Create a base class called \"Employee\" with attributes like \"name\" and \"salary.\"\n",
    "\n",
    "Derive two classes, \"Manager\" and \"Developer,\" from \"Employee.\" Add an additional\n",
    "attribute called \"department\" for the \"Manager\" class and \"programming_language\"\n",
    "for the \"Developer\" class."
   ]
  },
  {
   "cell_type": "code",
   "execution_count": 53,
   "id": "36b426a6",
   "metadata": {},
   "outputs": [],
   "source": [
    "class Employee:\n",
    "    def __init__(self,name,salary):\n",
    "        self.name=name\n",
    "        self.salary=salary\n",
    "    \n",
    "class Manager(Employee):\n",
    "    def __init__(self,name,salary,department):\n",
    "        super().__init__(name,salary)\n",
    "        self.department=department\n",
    "\n",
    "class Developer(Employee):\n",
    "    def __init__(self,name,salary,programming_language):\n",
    "        super().__init__(name,salary)\n",
    "        self.programming_language=programming_language\n",
    "    "
   ]
  },
  {
   "cell_type": "code",
   "execution_count": 52,
   "id": "d30e20ca",
   "metadata": {},
   "outputs": [
    {
     "name": "stdout",
     "output_type": "stream",
     "text": [
      "A 100\n",
      "B 200 D1\n",
      "C 300 Python\n"
     ]
    }
   ],
   "source": [
    "e1=Employee('A',100)\n",
    "print(e1.name,e1.salary)\n",
    "\n",
    "m1=Manager('B',200,'D1')\n",
    "print(m1.name,m1.salary,m1.department)\n",
    "\n",
    "D1=Developer('C',300,'Python')\n",
    "print(D1.name,D1.salary,D1.programming_language)\n"
   ]
  },
  {
   "cell_type": "code",
   "execution_count": null,
   "id": "079f1831",
   "metadata": {},
   "outputs": [],
   "source": []
  },
  {
   "cell_type": "markdown",
   "id": "47589f37",
   "metadata": {},
   "source": [
    "# Q8. \n",
    "Design a base class called \"Shape\" with attributes like \"colour\" and \"border_width.\"\n",
    "\n",
    "Create derived classes, \"Rectangle\" and \"Circle,\" that inherit from \"Shape\" and add\n",
    "\n",
    "specific attributes like \"length\" and \"width\" for the \"Rectangle\" class and \"radius\" for\n",
    "the \"Circle\" class."
   ]
  },
  {
   "cell_type": "code",
   "execution_count": 58,
   "id": "d84709f5",
   "metadata": {},
   "outputs": [],
   "source": [
    "class Shape:\n",
    "     def __init__(self,colour,border_width):\n",
    "        self.colour=colour\n",
    "        self.border_width=border_width\n",
    "    \n",
    "    \n",
    "class Rectangle(Shape):\n",
    "    def __init__(self,colour,border_width,length,width):\n",
    "        Shape.__init__(self,colour,border_width)\n",
    "        self.length=length\n",
    "        self.width=width\n",
    "\n",
    "\n",
    "class Circle(Shape):\n",
    "    def __init__(self,colour,border_width,radius):\n",
    "        Shape.__init__(self,colour,border_width)\n",
    "        self.radius=radius\n",
    "             \n",
    "\n",
    "        "
   ]
  },
  {
   "cell_type": "code",
   "execution_count": 62,
   "id": "ee3c4964",
   "metadata": {},
   "outputs": [
    {
     "name": "stdout",
     "output_type": "stream",
     "text": [
      "Green 10\n",
      "Red 20 3 4\n",
      "Blue 30 20\n"
     ]
    }
   ],
   "source": [
    "s=Shape('Green',10)\n",
    "print(s.colour,s.border_width)\n",
    "r=Rectangle('Red',20,3,4)\n",
    "print(r.colour,r.border_width,r.length,r.width)\n",
    "c=Circle('Blue',30,20)\n",
    "print(c.colour,c.border_width,c.radius)"
   ]
  },
  {
   "cell_type": "code",
   "execution_count": null,
   "id": "7bddeabf",
   "metadata": {},
   "outputs": [],
   "source": []
  },
  {
   "cell_type": "markdown",
   "id": "753f4ddc",
   "metadata": {},
   "source": [
    "# Q9.\n",
    "Create a base class called \"Device\" with attributes like \"brand\" and \"model.\"\n",
    "\n",
    "Derive two classes, \"Phone\" and \"Tablet,\" from \"Device.\" \n",
    "\n",
    "Add specific attributes like\n",
    "\"screen_size\" for the \"Phone\" class and \"battery_capacity\" for the \"Tablet\" class.\n"
   ]
  },
  {
   "cell_type": "code",
   "execution_count": 74,
   "id": "ca271d13",
   "metadata": {},
   "outputs": [],
   "source": [
    "class Device:\n",
    "     def __init__(self,brand,model):\n",
    "        self.brand=brand\n",
    "        self.model=model\n",
    "    \n",
    "    \n",
    "class Phone(Device):\n",
    "    def __init__(self,brand,model,screen_size):\n",
    "        super().__init__(brand,model)\n",
    "        self.screen_size=screen_size\n",
    "        \n",
    "\n",
    "\n",
    "class Tablet(Device):\n",
    "    def __init__(self,brand,model,battery_capacity):\n",
    "        super().__init__(brand,model)\n",
    "        self.battery_capacity=battery_capacity\n",
    "             \n",
    "\n",
    "        "
   ]
  },
  {
   "cell_type": "code",
   "execution_count": 75,
   "id": "f9c13e6d",
   "metadata": {},
   "outputs": [
    {
     "name": "stdout",
     "output_type": "stream",
     "text": [
      "Apple i15\n",
      "Samsung s20 6\n",
      "realme tab1 5000\n"
     ]
    }
   ],
   "source": [
    "d=Device('Apple',\"i15\")\n",
    "print(d.brand,d.model)\n",
    "\n",
    "p=Phone('Samsung','s20',6)\n",
    "print(p.brand,p.model,p.screen_size)\n",
    "\n",
    "t=Tablet('realme','tab1',5000)\n",
    "print(t.brand,t.model,t.battery_capacity)"
   ]
  },
  {
   "cell_type": "code",
   "execution_count": null,
   "id": "9520b4ed",
   "metadata": {},
   "outputs": [],
   "source": []
  },
  {
   "cell_type": "markdown",
   "id": "c48a9264",
   "metadata": {},
   "source": [
    "# Q10.\n",
    "Create a base class called \"BankAccount\" with attributes like \"account_number\" and \"balance.\" \n",
    "\n",
    "Derive two classes, \"SavingsAccount\" and \"CheckingAccount,\" from\n",
    "\"BankAccount.\" \n",
    "\n",
    "Add specific methods like \"calculate_interest\" for the\n",
    "\"SavingsAccount\" class and \"deduct_fees\" for the \"CheckingAccount\" class."
   ]
  },
  {
   "cell_type": "code",
   "execution_count": 90,
   "id": "8bb710e0",
   "metadata": {},
   "outputs": [],
   "source": [
    "class BankAccount:\n",
    "    def __init__(self,account_number,balance):\n",
    "        self.account_number=account_number\n",
    "        self.balance=balance\n",
    "        \n",
    "\n",
    "class SavingsAccount(BankAccount):\n",
    "    def calculate_interest(self):\n",
    "        return 0\n",
    "        \n",
    "        \n",
    "\n",
    "class CheckingAccount(BankAccount):\n",
    "    def deduct_fees(self):\n",
    "        return 1"
   ]
  },
  {
   "cell_type": "code",
   "execution_count": 91,
   "id": "2a9cd5b8",
   "metadata": {},
   "outputs": [
    {
     "name": "stdout",
     "output_type": "stream",
     "text": [
      "1000 10\n",
      "2000 20\n",
      "0\n",
      "3000 30\n",
      "1\n"
     ]
    }
   ],
   "source": [
    "b=BankAccount(1000,10)\n",
    "print(b.account_number,b.balance)\n",
    "\n",
    "s=SavingsAccount(2000,20)\n",
    "print(s.account_number,s.balance)\n",
    "print(s.calculate_interest())\n",
    "\n",
    "c=CheckingAccount(3000,30)\n",
    "print(c.account_number,c.balance)\n",
    "print(c.deduct_fees())"
   ]
  },
  {
   "cell_type": "code",
   "execution_count": null,
   "id": "516c0707",
   "metadata": {},
   "outputs": [],
   "source": []
  },
  {
   "cell_type": "code",
   "execution_count": null,
   "id": "b85daf4a",
   "metadata": {},
   "outputs": [],
   "source": []
  }
 ],
 "metadata": {
  "kernelspec": {
   "display_name": "Python 3 (ipykernel)",
   "language": "python",
   "name": "python3"
  },
  "language_info": {
   "codemirror_mode": {
    "name": "ipython",
    "version": 3
   },
   "file_extension": ".py",
   "mimetype": "text/x-python",
   "name": "python",
   "nbconvert_exporter": "python",
   "pygments_lexer": "ipython3",
   "version": "3.11.5"
  }
 },
 "nbformat": 4,
 "nbformat_minor": 5
}
