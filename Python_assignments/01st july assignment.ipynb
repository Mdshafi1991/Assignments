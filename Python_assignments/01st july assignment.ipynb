{
 "cells": [
  {
   "cell_type": "markdown",
   "id": "312535bb",
   "metadata": {},
   "source": [
    "# Q1.\n",
    "What is the primary goal of Object-Oriented Programming (OOP)?"
   ]
  },
  {
   "cell_type": "markdown",
   "id": "6c010ba0",
   "metadata": {},
   "source": [
    "    The goal is to organise the attributes and methods together which simulates the real world entities.\n",
    "    It helps to see every entity as an object, i.e. instantiation of a class. \n",
    "    This is achieved by using the concepts of :\n",
    "    1) Encapsulation\n",
    "    2) Inheritance\n",
    "    3) Polymorphism\n",
    "    4) Abstraction\n"
   ]
  },
  {
   "cell_type": "markdown",
   "id": "38206c52",
   "metadata": {},
   "source": [
    "# Q2. \n",
    "What is an object in Python?"
   ]
  },
  {
   "cell_type": "markdown",
   "id": "65181d4f",
   "metadata": {},
   "source": [
    "    An object is an instance of a class. It has all the attributes and methods defined in it's class.\n",
    "    It is created based on the blue print defined in the class in terms of attributes and methods.\n",
    "\n",
    "    eg: list in python is a class. \n",
    "        we can instantiate an object  from that object. Now my_list will have all the attributes methods \n",
    "        that are defined in the list class such as  "
   ]
  },
  {
   "cell_type": "markdown",
   "id": "f624a351",
   "metadata": {},
   "source": [
    "# Q3. \n",
    "What is a class in Python?\n"
   ]
  },
  {
   "cell_type": "markdown",
   "id": "6179804e",
   "metadata": {},
   "source": [
    "    A class is the blue print for an entity(object) that is supposed to be created from it.\n",
    "    It is the collection of the attributes and methods."
   ]
  },
  {
   "cell_type": "markdown",
   "id": "21d29663",
   "metadata": {},
   "source": [
    "# Q4. \n",
    "What are attributes and methods in a class?"
   ]
  },
  {
   "cell_type": "markdown",
   "id": "6e8cc98b",
   "metadata": {},
   "source": [
    "    Attributes represent the data members or properties of a class.\n",
    "    They are like variables that store information about the class.\n",
    "\n",
    "    Methods represent the actions or behaviors that the objects of a class can perform. \n",
    "    They define the operations/functions that can be applied to the object.\n",
    "\n",
    "\n",
    "    eg:\n",
    "    class Car:\n",
    "        def __init__(self, color, model,cost_per_km):\n",
    "            self.color = color   # Attribute\n",
    "            self.model = model   # Attribute\n",
    "            self.cost_per_km = cost_per_km\n",
    "\n",
    "        def calculate_cost(self,distance):\n",
    "            return cost_per_km * self.distance\n",
    "\n",
    "    Here calculate_cost() is the method and the attributes are color, model, cost_per_km.\n",
    "        \n",
    "        "
   ]
  },
  {
   "cell_type": "markdown",
   "id": "7807a221",
   "metadata": {},
   "source": [
    "# Q5. \n",
    "What is the difference between class variables and instance variables in Python?\n"
   ]
  },
  {
   "cell_type": "markdown",
   "id": "5979aa9d",
   "metadata": {},
   "source": [
    "    The differences are:\n",
    "        1) Class variables are shared among all instances of a class. Where as instance variables are \n",
    "        specific to an instance of the class and are defined during creation of the object.\n",
    "        \n",
    "        2) Class variables are defined at the class level whereas instance variables are defined in \n",
    "        the constructor(__init__()).\n",
    "        \n",
    "        3) changes to the class variable are reflected in all instances, where as changes in instance \n",
    "        variables are only for that instance(object)"
   ]
  },
  {
   "cell_type": "markdown",
   "id": "6db0db40",
   "metadata": {},
   "source": [
    "# Q6. \n",
    "What is the purpose of the self parameter in Python class methods?\n"
   ]
  },
  {
   "cell_type": "markdown",
   "id": "a4811e24",
   "metadata": {},
   "source": [
    "    The purpose is:\n",
    "        1) self parameter refers to the the instance of class in which the methods and attributes \n",
    "        are being defined.\n",
    "        2) It is used to access and modify the attributes of the current instances of the class.\n",
    "        3) It is used to differentiate the variables of current instance of a class from those \n",
    "        of other instances.\n",
    "\n"
   ]
  },
  {
   "cell_type": "markdown",
   "id": "ef853f21",
   "metadata": {},
   "source": [
    "# Q7. \n",
    "For a library management system, you have to design the \"Book\" class with OOP\n",
    "\n",
    "principles in mind. The “Book” class will have following attributes:\n",
    "\n",
    "a. title: Represents the title of the book.\n",
    "\n",
    "b. author: Represents the author(s) of the book.\n",
    "\n",
    "c. isbn: Represents the ISBN (International Standard Book Number) of the book.\n",
    "\n",
    "d. publication_year: Represents the year of publication of the book.\n",
    "\n",
    "e. available_copies: Represents the number of copies available for checkout.\n",
    "\n",
    "The class will also include the following methods:\n",
    "\n",
    "a. check_out(self): Decrements the available copies by one if there are copies\n",
    "available for checkout.\n",
    "\n",
    "b. return_book(self): Increments the available copies by one when a book is\n",
    "returned.\n",
    "\n",
    "c. display_book_info(self): Displays the information about the book, including its\n",
    "attributes and the number of available copies."
   ]
  },
  {
   "cell_type": "code",
   "execution_count": 3,
   "id": "3e5a97d0",
   "metadata": {},
   "outputs": [],
   "source": [
    "class Book:\n",
    "    def __init__(self,title,author,isbn,publication_year,available_copies):\n",
    "        self.title = title\n",
    "        self.author = author\n",
    "        self.isbn = isbn\n",
    "        self.publication_year = publication_year\n",
    "        self.available_copies = available_copies\n",
    "    \n",
    "    def check_out(self):\n",
    "        if self.available_copies > 0:\n",
    "            self.available_copies = self.available_copies-1\n",
    "        \n",
    "    def return_book(self):\n",
    "            self.available_copies = self.available_copies+1\n",
    "    \n",
    "    def display_book_info(self):\n",
    "            print(\"Title: \", self.title)\n",
    "            print(\"Author: \", self.author  )\n",
    "            print(\"isbn:\",self.isbn )\n",
    "            print(\"Publication Year: \", self.publication_year)\n",
    "            print(\"available_copies: \", self.available_copies)\n",
    "            \n",
    "\n",
    "    "
   ]
  },
  {
   "cell_type": "code",
   "execution_count": 4,
   "id": "de505d11",
   "metadata": {},
   "outputs": [
    {
     "name": "stdout",
     "output_type": "stream",
     "text": [
      "Title:  b1\n",
      "Author:  a1\n",
      "isbn: 1\n",
      "Publication Year:  2023\n",
      "available_copies:  10\n",
      "\n",
      "Details after checkout:\n",
      "Title:  b1\n",
      "Author:  a1\n",
      "isbn: 1\n",
      "Publication Year:  2023\n",
      "available_copies:  9\n",
      "\n",
      "Details after returning:\n",
      "Title:  b1\n",
      "Author:  a1\n",
      "isbn: 1\n",
      "Publication Year:  2023\n",
      "available_copies:  10\n"
     ]
    }
   ],
   "source": [
    "b=Book(\"b1\",\"a1\",1,2023,10)\n",
    "b.display_book_info()\n",
    "\n",
    "b.check_out()\n",
    "print(\"\\nDetails after checkout:\")\n",
    "b.display_book_info()\n",
    "\n",
    "b.return_book()\n",
    "print(\"\\nDetails after returning:\")\n",
    "b.display_book_info()\n"
   ]
  },
  {
   "cell_type": "code",
   "execution_count": null,
   "id": "5adfaac4",
   "metadata": {},
   "outputs": [],
   "source": []
  },
  {
   "cell_type": "markdown",
   "id": "fe3ac262",
   "metadata": {},
   "source": [
    "# Q8. \n",
    "For a ticket booking system, you have to design the \"Ticket\" class with OOP\n",
    "\n",
    "principles in mind. The “Ticket” class should have the following attributes:\n",
    "\n",
    "a. ticket_id: Represents the unique identifier for the ticket.\n",
    "\n",
    "b. event_name: Represents the name of the event.\n",
    "\n",
    "c. event_date: Represents the date of the event.\n",
    "\n",
    "d. venue: Represents the venue of the event.\n",
    "\n",
    "e. seat_number: Represents the seat number associated with the ticket.\n",
    "\n",
    "f. price: Represents the price of the ticket.\n",
    "\n",
    "g. is_reserved: Represents the reservation status of the ticket.\n",
    "\n",
    "The class also includes the following methods:\n",
    "a. reserve_ticket(self): Marks the ticket as reserved if it is not already reserved.\n",
    "\n",
    "b. cancel_reservation(self): Cancels the reservation of the ticket if it is already reserved.\n",
    "\n",
    "c. display_ticket_info(self): Displays the information about the ticket, including its attributes and reservation status."
   ]
  },
  {
   "cell_type": "code",
   "execution_count": 5,
   "id": "b80b6bea",
   "metadata": {},
   "outputs": [],
   "source": [
    "class Ticket:\n",
    "    def __init__(self,ticket_id,event_name,event_date,venue,seat_number,price,is_reserved):\n",
    "        self.ticket_id = ticket_id\n",
    "        self.event_name = event_name\n",
    "        self.event_date = event_date\n",
    "        self.venue = venue\n",
    "        self.seat_number = seat_number\n",
    "        self.price = price\n",
    "        self.is_reserved = is_reserved\n",
    "    \n",
    "    def reserve_ticket(self):\n",
    "        if self.is_reserved!=\"Reserved\":\n",
    "            self.is_reserved = \"Reserved\"\n",
    "        \n",
    "    def cancel_reservation(self):\n",
    "        if self.is_reserved==\"Reserved\":\n",
    "            self.is_reserved = \"Cancelled\"\n",
    "        \n",
    "    def display_ticket_info(self):\n",
    "        print(f\"Ticket ID: {self.ticket_id}\\nEvent Name: {self.event_name}\\nEvent date: {self.event_date}\\nVenue: {self.venue} \\nSeat Number: {self.seat_number},\\nReservation Status: {self.is_reserved}\")\n",
    "    \n",
    "        "
   ]
  },
  {
   "cell_type": "code",
   "execution_count": 6,
   "id": "98d33ff3",
   "metadata": {},
   "outputs": [
    {
     "name": "stdout",
     "output_type": "stream",
     "text": [
      "Ticket ID: 1\n",
      "Event Name: A\n",
      "Event date: 01-01-2023\n",
      "Venue: Hyd \n",
      "Seat Number: 1,\n",
      "Reservation Status: Reserved\n",
      "\n",
      "After Cancellation:\n",
      "Ticket ID: 1\n",
      "Event Name: A\n",
      "Event date: 01-01-2023\n",
      "Venue: Hyd \n",
      "Seat Number: 1,\n",
      "Reservation Status: Cancelled\n",
      "\n",
      "After Reserving:\n",
      "Ticket ID: 1\n",
      "Event Name: A\n",
      "Event date: 01-01-2023\n",
      "Venue: Hyd \n",
      "Seat Number: 1,\n",
      "Reservation Status: Reserved\n"
     ]
    }
   ],
   "source": [
    "t=Ticket(1,'A',\"01-01-2023\", \"Hyd\", 1, 10, \"Reserved\")\n",
    "t.display_ticket_info()\n",
    "\n",
    "t.cancel_reservation()\n",
    "print(\"\\nAfter Cancellation:\")\n",
    "t.display_ticket_info()\n",
    "\n",
    "\n",
    "t.reserve_ticket()\n",
    "print(\"\\nAfter Reserving:\")\n",
    "t.display_ticket_info()\n"
   ]
  },
  {
   "cell_type": "code",
   "execution_count": null,
   "id": "ab6f9337",
   "metadata": {},
   "outputs": [],
   "source": []
  },
  {
   "cell_type": "markdown",
   "id": "00c6c983",
   "metadata": {},
   "source": [
    "# Q9. \n",
    "You are creating a shopping cart for an e-commerce website. Using OOP to model\n",
    "\n",
    "the \"ShoppingCart\" functionality the class should contain following attributes and\n",
    "methods:\n",
    "\n",
    "a. items: Represents the list of items in the shopping cart.\n",
    "\n",
    "The class also includes the following methods:\n",
    "\n",
    "\n",
    "a. add_item(self, item): Adds an item to the shopping cart by appending it to the\n",
    "list of items.\n",
    "\n",
    "b. remove_item(self, item): Removes an item from the shopping cart if it exists in\n",
    "the list.\n",
    "\n",
    "c. view_cart(self): Displays the items currently present in the shopping cart.\n",
    "\n",
    "d. clear_cart(self): Clears all items from the shopping cart by reassigning an\n",
    "empty list to the items attribute."
   ]
  },
  {
   "cell_type": "code",
   "execution_count": 7,
   "id": "b80e32de",
   "metadata": {},
   "outputs": [],
   "source": [
    "class ShoppingCart:\n",
    "    items=[]\n",
    "    \n",
    "    def add_item(self,item):\n",
    "        self.items.append(item)\n",
    "        \n",
    "    def remove_item(self, item):\n",
    "        self.items.remove(item)\n",
    "    \n",
    "    def view_cart(self):\n",
    "        print(self.items)\n",
    "    \n",
    "    def clear_cart(self):\n",
    "        self.items=[]\n",
    "    \n",
    "        \n",
    "    "
   ]
  },
  {
   "cell_type": "code",
   "execution_count": 8,
   "id": "079fcb18",
   "metadata": {},
   "outputs": [
    {
     "name": "stdout",
     "output_type": "stream",
     "text": [
      "Cart before adding an item:\n",
      "[]\n",
      "Cart after adding an item:\n",
      "['A']\n",
      "Cart after adding an item:\n",
      "['A', 'B']\n",
      "Cart after removing an item:\n",
      "['A']\n",
      "Cart after emptying an item:\n",
      "[]\n"
     ]
    }
   ],
   "source": [
    "s=ShoppingCart()\n",
    "print(\"Cart before adding an item:\")\n",
    "s.view_cart()\n",
    "\n",
    "s.add_item('A')\n",
    "print(\"Cart after adding an item:\")\n",
    "s.view_cart()\n",
    "\n",
    "s.add_item('B')\n",
    "print(\"Cart after adding an item:\")\n",
    "s.view_cart()\n",
    "\n",
    "\n",
    "s.remove_item('B')\n",
    "print(\"Cart after removing an item:\")\n",
    "s.view_cart()\n",
    "\n",
    "s.clear_cart()\n",
    "print(\"Cart after emptying an item:\")\n",
    "s.view_cart()\n"
   ]
  },
  {
   "cell_type": "markdown",
   "id": "6a864a86",
   "metadata": {},
   "source": [
    "# 10. \n",
    "Imagine a school management system. You have to design the \"Student\" class using\n",
    "\n",
    "OOP concepts.The “Student” class has the following attributes:\n",
    "\n",
    "a. name: Represents the name of the student.\n",
    "\n",
    "b. age: Represents the age of the student.\n",
    "\n",
    "c. grade: Represents the grade or class of the student.\n",
    "\n",
    "d. student_id: Represents the unique identifier for the student.\n",
    "\n",
    "e. attendance: Represents the attendance record of the student.\n",
    "\n",
    "The class should also include the following methods:\n",
    "\n",
    "a. update_attendance(self, date, status): Updates the attendance record of the\n",
    "student for a given date with the provided status (e.g., present or absent).\n",
    "\n",
    "b. get_attendance(self): Returns the attendance record of the student.\n",
    "\n",
    "c. get_average_attendance(self): Calculates and returns the average\n",
    "attendance percentage of the student based on their attendance record."
   ]
  },
  {
   "cell_type": "code",
   "execution_count": 9,
   "id": "bc03b964",
   "metadata": {},
   "outputs": [],
   "source": [
    "class Student:\n",
    "    def __init__(self,name,age,grade,student_id,attendance={}):\n",
    "        self.name=name\n",
    "        self.age=age\n",
    "        self.grade=grade\n",
    "        self.student_id=student_id\n",
    "        self.attendance=attendance\n",
    "    \n",
    "    def update_attendance(self, date, status):\n",
    "        self.attendance.update({date:status})\n",
    "\n",
    "    \n",
    "    def get_attendance(self):\n",
    "        return self.attendance\n",
    "        \n",
    "    def get_average_attendance(self):\n",
    "        attendance_date_list=self.attendance.keys()\n",
    "        attendance_status_list=[i for i in self.attendance.values() if i=='present' ]\n",
    "        return len(attendance_status_list)/len(attendance_date_list)*100\n",
    "        \n",
    "        \n",
    "    "
   ]
  },
  {
   "cell_type": "code",
   "execution_count": 10,
   "id": "4c44697a",
   "metadata": {},
   "outputs": [
    {
     "name": "stdout",
     "output_type": "stream",
     "text": [
      "{'12-01-2023': 'present'}\n",
      "\n",
      " {'12-01-2023': 'present', '01-01-2023': 'present', '02-01-2023': 'absent', '03-01-2023': 'present', '04-01-2023': 'absent', '05-01-2023': 'present', '06-01-2023': 'present', '07-01-2023': 'present', '08-01-2023': 'present', '09-01-2023': 'present', '10-01-2023': 'present', '11-01-2023': 'present'}\n",
      "\n",
      " 83.33333333333334\n"
     ]
    }
   ],
   "source": [
    "s=Student('A',20,'A',1,{})\n",
    "s.get_attendance()\n",
    "\n",
    "s.update_attendance(\"12-01-2023\",'present')\n",
    "print(s.get_attendance())\n",
    "\n",
    "s.update_attendance(\"01-01-2023\",'present')\n",
    "s.update_attendance(\"02-01-2023\",'absent')\n",
    "s.update_attendance(\"03-01-2023\",'present')\n",
    "s.update_attendance(\"04-01-2023\",'absent')\n",
    "s.update_attendance(\"05-01-2023\",'present')\n",
    "s.update_attendance(\"06-01-2023\",'present')\n",
    "s.update_attendance(\"07-01-2023\",'present')\n",
    "s.update_attendance(\"08-01-2023\",'present')\n",
    "s.update_attendance(\"09-01-2023\",'present')\n",
    "s.update_attendance(\"10-01-2023\",'present')\n",
    "s.update_attendance(\"11-01-2023\",'present')\n",
    "print('\\n',s.get_attendance())\n",
    "print('\\n',s.get_average_attendance())\n"
   ]
  },
  {
   "cell_type": "code",
   "execution_count": null,
   "id": "8c3952e3",
   "metadata": {},
   "outputs": [],
   "source": []
  }
 ],
 "metadata": {
  "kernelspec": {
   "display_name": "Python 3 (ipykernel)",
   "language": "python",
   "name": "python3"
  },
  "language_info": {
   "codemirror_mode": {
    "name": "ipython",
    "version": 3
   },
   "file_extension": ".py",
   "mimetype": "text/x-python",
   "name": "python",
   "nbconvert_exporter": "python",
   "pygments_lexer": "ipython3",
   "version": "3.11.5"
  }
 },
 "nbformat": 4,
 "nbformat_minor": 5
}
